{
  "nbformat": 4,
  "nbformat_minor": 0,
  "metadata": {
    "colab": {
      "name": "collections#2.ipynb",
      "provenance": [],
      "authorship_tag": "ABX9TyPz4CJu5r68stn/tLlvBJk1",
      "include_colab_link": true
    },
    "kernelspec": {
      "name": "python3",
      "display_name": "Python 3"
    },
    "language_info": {
      "name": "python"
    }
  },
  "cells": [
    {
      "cell_type": "markdown",
      "metadata": {
        "id": "view-in-github",
        "colab_type": "text"
      },
      "source": [
        "<a href=\"https://colab.research.google.com/github/KPxto/python_collections/blob/main/collections_2.ipynb\" target=\"_parent\"><img src=\"https://colab.research.google.com/assets/colab-badge.svg\" alt=\"Open In Colab\"/></a>"
      ]
    },
    {
      "cell_type": "markdown",
      "metadata": {
        "id": "XWwognu0CBzi"
      },
      "source": [
        "#**Live de Python #29**\n",
        "\n",
        "[link para aula](https://www.youtube.com/watch?v=3NYHjZwhx-M)"
      ]
    },
    {
      "cell_type": "markdown",
      "metadata": {
        "id": "9O9jJdKoCXrA"
      },
      "source": [
        "#**Counter, defaultdict e OrderedDict**"
      ]
    },
    {
      "cell_type": "markdown",
      "metadata": {
        "id": "9X2hbnpEELXf"
      },
      "source": [
        "**O que são dicionários**\n",
        "\n",
        "- Estrutura de dados muito poderosa\n",
        "- Presente também em outras linguagens\n",
        "- São também chamadas de mapping, hash mapping"
      ]
    },
    {
      "cell_type": "markdown",
      "metadata": {
        "id": "_fNNL1I8E600"
      },
      "source": [
        "**Podemos criar dicionários das duas formas abaixo**"
      ]
    },
    {
      "cell_type": "code",
      "metadata": {
        "id": "1IwF5ON4E_1j"
      },
      "source": [
        "dic_1 = {'chave1':'valor1', 'chave2':'valor2', 'chave3':'valor3'}\n",
        "\n",
        "dic_2 = dict(chave1='valor1', chave2='valor2', chave3='valor3')"
      ],
      "execution_count": 9,
      "outputs": []
    },
    {
      "cell_type": "markdown",
      "metadata": {
        "id": "3Gvukk3qFG4R"
      },
      "source": [
        "Como sabemos, dicionários são acessíveis por chaves, conforme abaixo:"
      ]
    },
    {
      "cell_type": "code",
      "metadata": {
        "colab": {
          "base_uri": "https://localhost:8080/",
          "height": 35
        },
        "id": "fbZ3Y_SMFKCc",
        "outputId": "ab1ad2ed-934f-4414-df1c-5fb8988a009b"
      },
      "source": [
        "dic_1['chave1']"
      ],
      "execution_count": 11,
      "outputs": [
        {
          "output_type": "execute_result",
          "data": {
            "application/vnd.google.colaboratory.intrinsic+json": {
              "type": "string"
            },
            "text/plain": [
              "'valor1'"
            ]
          },
          "metadata": {
            "tags": []
          },
          "execution_count": 11
        }
      ]
    },
    {
      "cell_type": "code",
      "metadata": {
        "colab": {
          "base_uri": "https://localhost:8080/",
          "height": 35
        },
        "id": "kSI67C_8GwMv",
        "outputId": "fff3babe-8b29-46fe-e5fa-e18a998c2556"
      },
      "source": [
        "dic_2['chave2']"
      ],
      "execution_count": 12,
      "outputs": [
        {
          "output_type": "execute_result",
          "data": {
            "application/vnd.google.colaboratory.intrinsic+json": {
              "type": "string"
            },
            "text/plain": [
              "'valor2'"
            ]
          },
          "metadata": {
            "tags": []
          },
          "execution_count": 12
        }
      ]
    },
    {
      "cell_type": "markdown",
      "metadata": {
        "id": "N925BV2JICAt"
      },
      "source": [
        "Podemos também mudar ou criar novos valores seguindo a orientação abaixo"
      ]
    },
    {
      "cell_type": "code",
      "metadata": {
        "id": "tZXsn2ViIQYR"
      },
      "source": [
        "# criando novos valores\n",
        "dic_1['nova_chave'] = 'novo_valor'"
      ],
      "execution_count": 30,
      "outputs": []
    },
    {
      "cell_type": "code",
      "metadata": {
        "colab": {
          "base_uri": "https://localhost:8080/"
        },
        "id": "ibYhD7-cIXP2",
        "outputId": "eb13a4fe-559b-4f6f-e175-b746ec62f1af"
      },
      "source": [
        "dic_1"
      ],
      "execution_count": 31,
      "outputs": [
        {
          "output_type": "execute_result",
          "data": {
            "text/plain": [
              "{'chave1': 'valor1',\n",
              " 'chave2': 'valor2',\n",
              " 'chave3': 'valor3',\n",
              " 'nova_chave': 'novo_valor'}"
            ]
          },
          "metadata": {
            "tags": []
          },
          "execution_count": 31
        }
      ]
    },
    {
      "cell_type": "code",
      "metadata": {
        "id": "yUx6NSbWIYOj"
      },
      "source": [
        "# mudando valores já existentes\n",
        "dic_1['chave1'] = 'valor1_0'"
      ],
      "execution_count": 32,
      "outputs": []
    },
    {
      "cell_type": "code",
      "metadata": {
        "colab": {
          "base_uri": "https://localhost:8080/"
        },
        "id": "xBSTR_0yIfSp",
        "outputId": "4e32def2-5a9a-4a57-dcb1-c11faeb4a8c3"
      },
      "source": [
        "dic_1"
      ],
      "execution_count": 33,
      "outputs": [
        {
          "output_type": "execute_result",
          "data": {
            "text/plain": [
              "{'chave1': 'valor1_0',\n",
              " 'chave2': 'valor2',\n",
              " 'chave3': 'valor3',\n",
              " 'nova_chave': 'novo_valor'}"
            ]
          },
          "metadata": {
            "tags": []
          },
          "execution_count": 33
        }
      ]
    },
    {
      "cell_type": "markdown",
      "metadata": {
        "id": "B0z-64WoJf9N"
      },
      "source": [
        "Um método interessante de dicionários é o update.\n",
        "\n",
        "Ele incorpora um dicionário a outro já existente. Caso as chaves se repitam, o seu valor é atualizado. Caso não existam chaves repetidas, o novo par chave-valor vai ser incorporado ao dicionário."
      ]
    },
    {
      "cell_type": "code",
      "metadata": {
        "id": "1EWjc_cUKoxO"
      },
      "source": [
        "# criando um dicionário simples para incorporar ao antigo\n",
        "f =  {7:'sete'}"
      ],
      "execution_count": 46,
      "outputs": []
    },
    {
      "cell_type": "code",
      "metadata": {
        "id": "lSQ-VI_xKp4J"
      },
      "source": [
        "# atualizando o dicionario dic_1\n",
        "dic_1.update(f)"
      ],
      "execution_count": 47,
      "outputs": []
    },
    {
      "cell_type": "code",
      "metadata": {
        "colab": {
          "base_uri": "https://localhost:8080/"
        },
        "id": "xetpTXc0K0Z1",
        "outputId": "5208f2b0-d597-4dcc-aceb-7c0532dd5b80"
      },
      "source": [
        "dic_1"
      ],
      "execution_count": 48,
      "outputs": [
        {
          "output_type": "execute_result",
          "data": {
            "text/plain": [
              "{7: 'sete',\n",
              " 'chave1': 'valor1_0',\n",
              " 'chave2': 'valor2',\n",
              " 'chave3': 'valor3',\n",
              " 'nova_chave': 'novo_valor'}"
            ]
          },
          "metadata": {
            "tags": []
          },
          "execution_count": 48
        }
      ]
    },
    {
      "cell_type": "code",
      "metadata": {
        "id": "mFRCDP08K1Ss"
      },
      "source": [
        "# criando um dicionario com chave existente no dic_1\n",
        "x = {'chave1':'valor1'}"
      ],
      "execution_count": 49,
      "outputs": []
    },
    {
      "cell_type": "code",
      "metadata": {
        "id": "orPhfafCK-Sb"
      },
      "source": [
        "dic_1.update(x)"
      ],
      "execution_count": 50,
      "outputs": []
    },
    {
      "cell_type": "code",
      "metadata": {
        "colab": {
          "base_uri": "https://localhost:8080/"
        },
        "id": "b-ER-YjCLAJ9",
        "outputId": "94fa02f2-fc81-48da-e03c-3ad0adc3f606"
      },
      "source": [
        "dic_1"
      ],
      "execution_count": 51,
      "outputs": [
        {
          "output_type": "execute_result",
          "data": {
            "text/plain": [
              "{7: 'sete',\n",
              " 'chave1': 'valor1',\n",
              " 'chave2': 'valor2',\n",
              " 'chave3': 'valor3',\n",
              " 'nova_chave': 'novo_valor'}"
            ]
          },
          "metadata": {
            "tags": []
          },
          "execution_count": 51
        }
      ]
    },
    {
      "cell_type": "markdown",
      "metadata": {
        "id": "zirZhrkPLAwi"
      },
      "source": [
        "**Dict Comprehension**\n",
        "\n",
        "Funciona basicamente como uma list comprehension.\n",
        "\n",
        "Colocamos um laço dentro de uma estrutura de chaves."
      ]
    },
    {
      "cell_type": "code",
      "metadata": {
        "id": "v2G3RQ6uLYNs"
      },
      "source": [
        "digitos = [0, 1, 2, 3]\n",
        "strings = ['zero', 'um', 'dois', 'tres']"
      ],
      "execution_count": 68,
      "outputs": []
    },
    {
      "cell_type": "code",
      "metadata": {
        "colab": {
          "base_uri": "https://localhost:8080/"
        },
        "id": "-rPz-9F9LdRx",
        "outputId": "4bb37a9b-1099-455a-dac1-1f0ee61e28dd"
      },
      "source": [
        "{stri:dig for dig, stri in zip(digitos, strings)}"
      ],
      "execution_count": 69,
      "outputs": [
        {
          "output_type": "execute_result",
          "data": {
            "text/plain": [
              "{'dois': 2, 'tres': 3, 'um': 1, 'zero': 0}"
            ]
          },
          "metadata": {
            "tags": []
          },
          "execution_count": 69
        }
      ]
    },
    {
      "cell_type": "markdown",
      "metadata": {
        "id": "MwGa1CrKM2e9"
      },
      "source": [
        "**OrderedDict**\n",
        "\n",
        "Problema a ser resolvido: dicionários não mantém chaves de acordo com ordem de inserção. Vc pode inserir pares num dicionário, mas na hora de fazer uma iteração pode não retornar novo dict na ordem desejada"
      ]
    },
    {
      "cell_type": "code",
      "metadata": {
        "id": "bvEHlA5n3DiS"
      },
      "source": [
        "from collections import OrderedDict"
      ],
      "execution_count": 22,
      "outputs": []
    },
    {
      "cell_type": "code",
      "metadata": {
        "id": "1xe-4SWaV-IR"
      },
      "source": [
        "# instanciando um objeto\n",
        "d = OrderedDict()"
      ],
      "execution_count": 23,
      "outputs": []
    },
    {
      "cell_type": "code",
      "metadata": {
        "colab": {
          "base_uri": "https://localhost:8080/"
        },
        "id": "ZZv0A5K3WNVI",
        "outputId": "9ecd87f6-4210-4a79-a030-0e4c44a5b926"
      },
      "source": [
        "d"
      ],
      "execution_count": 24,
      "outputs": [
        {
          "output_type": "execute_result",
          "data": {
            "text/plain": [
              "OrderedDict()"
            ]
          },
          "metadata": {
            "tags": []
          },
          "execution_count": 24
        }
      ]
    },
    {
      "cell_type": "code",
      "metadata": {
        "id": "KVfxfgQAWPFN"
      },
      "source": [
        "# o OrderedDict lembra a ordem de inserção de chaves no dicionário\n",
        "d[0] = 'zero'\n",
        "d[999] = 'carro'\n",
        "d[3] = 'bike'"
      ],
      "execution_count": 26,
      "outputs": []
    },
    {
      "cell_type": "code",
      "metadata": {
        "colab": {
          "base_uri": "https://localhost:8080/"
        },
        "id": "6l4iWwggWzCx",
        "outputId": "6cabcb60-08e9-4864-b951-5f056ea86148"
      },
      "source": [
        "d"
      ],
      "execution_count": 27,
      "outputs": [
        {
          "output_type": "execute_result",
          "data": {
            "text/plain": [
              "OrderedDict([(0, 'zero'), (999, 'carro'), (3, 'bike')])"
            ]
          },
          "metadata": {
            "tags": []
          },
          "execution_count": 27
        }
      ]
    },
    {
      "cell_type": "code",
      "metadata": {
        "id": "HH8ZYu5tW6jq"
      },
      "source": [
        "c = {}\n",
        "c[0] = 'zero'\n",
        "c[999] = 'carro'\n",
        "c[3] = 'bike'"
      ],
      "execution_count": 29,
      "outputs": []
    },
    {
      "cell_type": "code",
      "metadata": {
        "colab": {
          "base_uri": "https://localhost:8080/"
        },
        "id": "9eC4w7NMW9n9",
        "outputId": "6ad549a4-1e33-4bb7-bce5-0b7aaa6d6d9a"
      },
      "source": [
        "c"
      ],
      "execution_count": 30,
      "outputs": [
        {
          "output_type": "execute_result",
          "data": {
            "text/plain": [
              "{0: 'zero', 3: 'bike', 999: 'carro'}"
            ]
          },
          "metadata": {
            "tags": []
          },
          "execution_count": 30
        }
      ]
    },
    {
      "cell_type": "markdown",
      "metadata": {
        "id": "hfOFwUUDXrK7"
      },
      "source": [
        "**DefaultDict**\n",
        "\n",
        "Cria um valor default para qualquer chave inexistente no dicionario.\n",
        "\n",
        "Ou seja, com defaultdict nunca haverá erro se vc procurar por uma chave que não existe. Ele vai atribuir o valor default à qualquer nova chave chamada.\n"
      ]
    },
    {
      "cell_type": "code",
      "metadata": {
        "id": "z2nqxfKtX3SK"
      },
      "source": [
        "# importando módulo\n",
        "from collections import defaultdict"
      ],
      "execution_count": 78,
      "outputs": []
    },
    {
      "cell_type": "code",
      "metadata": {
        "id": "RhQMQyPoaez8"
      },
      "source": [
        "# primeiro vamos criar uma função que vai gerar o valor default\n",
        "# ou seja, toda vez que essa função for chamada ela vai retornar o valor 3\n",
        "def num(): return 3"
      ],
      "execution_count": 79,
      "outputs": []
    },
    {
      "cell_type": "code",
      "metadata": {
        "id": "ECWmgUyRabe3"
      },
      "source": [
        "# instanciando nosso novo default dict com a função como argumento\n",
        "d = defaultdict(num)"
      ],
      "execution_count": 80,
      "outputs": []
    },
    {
      "cell_type": "code",
      "metadata": {
        "colab": {
          "base_uri": "https://localhost:8080/"
        },
        "id": "JvWKHoeyacta",
        "outputId": "e412eba5-1927-471d-c018-55e78771b0c6"
      },
      "source": [
        "# chamando uma chave que não existe\n",
        "d['chave']"
      ],
      "execution_count": 81,
      "outputs": [
        {
          "output_type": "execute_result",
          "data": {
            "text/plain": [
              "3"
            ]
          },
          "metadata": {
            "tags": []
          },
          "execution_count": 81
        }
      ]
    },
    {
      "cell_type": "code",
      "metadata": {
        "colab": {
          "base_uri": "https://localhost:8080/"
        },
        "id": "GFbeT2oBdtIc",
        "outputId": "7a9003bc-d335-4e72-95be-dd5c875f1c51"
      },
      "source": [
        "d"
      ],
      "execution_count": 82,
      "outputs": [
        {
          "output_type": "execute_result",
          "data": {
            "text/plain": [
              "defaultdict(<function __main__.num>, {'chave': 3})"
            ]
          },
          "metadata": {
            "tags": []
          },
          "execution_count": 82
        }
      ]
    },
    {
      "cell_type": "code",
      "metadata": {
        "colab": {
          "base_uri": "https://localhost:8080/"
        },
        "id": "I5HO12ewcnA8",
        "outputId": "feee7310-9597-4864-ac33-f619bb62d9b0"
      },
      "source": [
        "d[1]"
      ],
      "execution_count": 83,
      "outputs": [
        {
          "output_type": "execute_result",
          "data": {
            "text/plain": [
              "3"
            ]
          },
          "metadata": {
            "tags": []
          },
          "execution_count": 83
        }
      ]
    },
    {
      "cell_type": "code",
      "metadata": {
        "colab": {
          "base_uri": "https://localhost:8080/"
        },
        "id": "dnmJKI1qcsjQ",
        "outputId": "9188198f-3b97-4325-ca0a-e90db01dbacd"
      },
      "source": [
        "d"
      ],
      "execution_count": 90,
      "outputs": [
        {
          "output_type": "execute_result",
          "data": {
            "text/plain": [
              "defaultdict(<function __main__.num>, {1: 3, 'chave': 3})"
            ]
          },
          "metadata": {
            "tags": []
          },
          "execution_count": 90
        }
      ]
    },
    {
      "cell_type": "code",
      "metadata": {
        "id": "VDywHK-qc3Gy"
      },
      "source": [
        "# vamos criar um dicionario para armazenar funcionarios e salarios\n",
        "# passamos uma função lambda\n",
        "fun = defaultdict(lambda: 'nao existente')"
      ],
      "execution_count": 92,
      "outputs": []
    },
    {
      "cell_type": "code",
      "metadata": {
        "colab": {
          "base_uri": "https://localhost:8080/",
          "height": 35
        },
        "id": "pCOagtZZc5go",
        "outputId": "c9ef75ae-c456-4bdb-eb53-5fa856bae743"
      },
      "source": [
        "# procurando por novo funcionario ainda não cadastrado\n",
        "fun['joao']"
      ],
      "execution_count": 93,
      "outputs": [
        {
          "output_type": "execute_result",
          "data": {
            "application/vnd.google.colaboratory.intrinsic+json": {
              "type": "string"
            },
            "text/plain": [
              "'nao existente'"
            ]
          },
          "metadata": {
            "tags": []
          },
          "execution_count": 93
        }
      ]
    },
    {
      "cell_type": "code",
      "metadata": {
        "colab": {
          "base_uri": "https://localhost:8080/"
        },
        "id": "6B9XOmGnd2nP",
        "outputId": "daf3b7ed-b0d8-4fc2-8a43-686f1d7ce996"
      },
      "source": [
        "# veja que, como ainda nao existia, ele acaba criando nova chave\n",
        "# com o valor padrão\n",
        "fun"
      ],
      "execution_count": 95,
      "outputs": [
        {
          "output_type": "execute_result",
          "data": {
            "text/plain": [
              "defaultdict(<function __main__.<lambda>>, {'joao': 'nao existente'})"
            ]
          },
          "metadata": {
            "tags": []
          },
          "execution_count": 95
        }
      ]
    },
    {
      "cell_type": "code",
      "metadata": {
        "id": "-2wkPmrad3NG"
      },
      "source": [
        "# agora vamos atualizar os dados do novo funcionario\n",
        "fun.update({'joao':'R$ 3000'})"
      ],
      "execution_count": 96,
      "outputs": []
    },
    {
      "cell_type": "code",
      "metadata": {
        "colab": {
          "base_uri": "https://localhost:8080/"
        },
        "id": "6gcFAZVQd9Zg",
        "outputId": "e6d7b12a-b5f2-45f9-cf7b-1ec19d5d95f8"
      },
      "source": [
        "fun"
      ],
      "execution_count": 105,
      "outputs": [
        {
          "output_type": "execute_result",
          "data": {
            "text/plain": [
              "defaultdict(<function __main__.<lambda>>, {'joao': 'R$ 3000'})"
            ]
          },
          "metadata": {
            "tags": []
          },
          "execution_count": 105
        }
      ]
    },
    {
      "cell_type": "markdown",
      "metadata": {
        "id": "aoX0QAIvet1z"
      },
      "source": [
        "**Counter**\n",
        "\n",
        "Faz uma contagem dos elementos de um iterável.\n",
        "\n",
        "Por exemplo, ele conta quantas vezes cada item aparece numa lista.\n",
        "\n",
        "Counter retorna um dicionário com o elemento como chave e sua contagem como valor"
      ]
    },
    {
      "cell_type": "code",
      "metadata": {
        "id": "Jpq7AL0ye3sK"
      },
      "source": [
        "from collections import Counter"
      ],
      "execution_count": 106,
      "outputs": []
    },
    {
      "cell_type": "code",
      "metadata": {
        "id": "u2zQ9ZClfInf"
      },
      "source": [
        "lista = [1, 2, 3, 1, 1, 2, 3, 4, 5, 6, 4, 3, 2, 3, 5, 6, 7, 5, 4, 3, 3, 2, 2]"
      ],
      "execution_count": 107,
      "outputs": []
    },
    {
      "cell_type": "code",
      "metadata": {
        "colab": {
          "base_uri": "https://localhost:8080/"
        },
        "id": "wWxioMqGfNz_",
        "outputId": "db773749-5b3c-4f2c-b19a-88adaea0d546"
      },
      "source": [
        "Counter(lista)"
      ],
      "execution_count": 108,
      "outputs": [
        {
          "output_type": "execute_result",
          "data": {
            "text/plain": [
              "Counter({1: 3, 2: 5, 3: 6, 4: 3, 5: 3, 6: 2, 7: 1})"
            ]
          },
          "metadata": {
            "tags": []
          },
          "execution_count": 108
        }
      ]
    },
    {
      "cell_type": "code",
      "metadata": {
        "id": "uBGIzCL3fPH2"
      },
      "source": [
        "s = 'kaio oliveira peixoto'"
      ],
      "execution_count": 109,
      "outputs": []
    },
    {
      "cell_type": "code",
      "metadata": {
        "colab": {
          "base_uri": "https://localhost:8080/"
        },
        "id": "i-pbRfrdfW_G",
        "outputId": "f45670cc-0eed-4261-da3b-e231c3361943"
      },
      "source": [
        "Counter(s)"
      ],
      "execution_count": 119,
      "outputs": [
        {
          "output_type": "execute_result",
          "data": {
            "text/plain": [
              "Counter({' ': 2,\n",
              "         'a': 2,\n",
              "         'e': 2,\n",
              "         'i': 4,\n",
              "         'k': 1,\n",
              "         'l': 1,\n",
              "         'o': 4,\n",
              "         'p': 1,\n",
              "         'r': 1,\n",
              "         't': 1,\n",
              "         'v': 1,\n",
              "         'x': 1})"
            ]
          },
          "metadata": {
            "tags": []
          },
          "execution_count": 119
        }
      ]
    },
    {
      "cell_type": "code",
      "metadata": {
        "colab": {
          "base_uri": "https://localhost:8080/"
        },
        "id": "sQryap-6nkjG",
        "outputId": "3254981a-fef2-4df1-e5c0-761a251c0811"
      },
      "source": [
        "# podemos fazer operações de interseção, semelhante a de conjuntos (set)\n",
        "Counter('aabccdd') & Counter('aabcc')"
      ],
      "execution_count": 139,
      "outputs": [
        {
          "output_type": "execute_result",
          "data": {
            "text/plain": [
              "Counter({'a': 2, 'b': 1, 'c': 2})"
            ]
          },
          "metadata": {
            "tags": []
          },
          "execution_count": 139
        }
      ]
    },
    {
      "cell_type": "code",
      "metadata": {
        "id": "owqus0GGfXtQ"
      },
      "source": [
        "# vamos agora pegar uma string maior para brincar\n",
        "st = \"\"\"\n",
        "Text messaging, or texting, is the act of composing and sending electronic messages, typically consisting of alphabetic and numeric characters, between two or more users of mobile devices, desktops/laptops, or other type of compatible computer. Text messages may be sent over a cellular network, or may also be sent via an Internet connection.\n",
        "\n",
        "The term originally referred to messages sent using the Short Message Service (SMS). It has grown beyond alphanumeric text to include multimedia messages using the Multimedia Messaging Service (MMS) containing digital images, videos, and sound content, as well as ideograms known as emoji (happy faces, sad faces, and other icons), and instant messenger applications (usually the term is used when on mobile devices).\n",
        "\n",
        "Text messages are used for personal, family, business and social purposes. Governmental and non-governmental organizations use text messaging for communication between colleagues. In the 2010s, the sending of short informal messages became an accepted part of many cultures, as happened earlier with emailing.[1] This makes texting a quick and easy way to communicate with friends, family and colleagues, including in contexts where a call would be impolite or inappropriate (e.g., calling very late at night or when one knows the other person is busy with family or work activities). Like e-mail and voicemail and unlike calls (in which the caller hopes to speak directly with the recipient), texting does not require the caller and recipient to both be free at the same moment; this permits communication even between busy individuals. Text messages can also be used to interact with automated systems, for example, to order products or services from e-commerce websites, or to participate in online contests. Advertisers and service providers use direct text marketing to send messages to mobile users about promotions, payment due dates, and other notifications instead of using postal mail, email, or voicemail.\n",
        "\"\"\""
      ],
      "execution_count": 129,
      "outputs": []
    },
    {
      "cell_type": "code",
      "metadata": {
        "colab": {
          "base_uri": "https://localhost:8080/"
        },
        "id": "yQGxMaxCjoEV",
        "outputId": "2ade956f-1946-4a6e-8f70-dc61a0a7c98f"
      },
      "source": [
        "# vamos contar quanto de cada letra tem na string\n",
        "Counter(st)"
      ],
      "execution_count": 130,
      "outputs": [
        {
          "output_type": "execute_result",
          "data": {
            "text/plain": [
              "Counter({'\\n': 6,\n",
              "         ' ': 300,\n",
              "         '(': 6,\n",
              "         ')': 6,\n",
              "         ',': 28,\n",
              "         '-': 3,\n",
              "         '.': 13,\n",
              "         '/': 1,\n",
              "         '0': 2,\n",
              "         '1': 2,\n",
              "         '2': 1,\n",
              "         ';': 1,\n",
              "         'A': 1,\n",
              "         'G': 1,\n",
              "         'I': 3,\n",
              "         'L': 1,\n",
              "         'M': 6,\n",
              "         'S': 6,\n",
              "         'T': 6,\n",
              "         '[': 1,\n",
              "         ']': 1,\n",
              "         'a': 126,\n",
              "         'b': 21,\n",
              "         'c': 66,\n",
              "         'd': 51,\n",
              "         'e': 213,\n",
              "         'f': 21,\n",
              "         'g': 42,\n",
              "         'h': 39,\n",
              "         'i': 126,\n",
              "         'j': 1,\n",
              "         'k': 11,\n",
              "         'l': 66,\n",
              "         'm': 65,\n",
              "         'n': 119,\n",
              "         'o': 114,\n",
              "         'p': 39,\n",
              "         'q': 2,\n",
              "         'r': 86,\n",
              "         's': 132,\n",
              "         't': 131,\n",
              "         'u': 41,\n",
              "         'v': 19,\n",
              "         'w': 22,\n",
              "         'x': 12,\n",
              "         'y': 21,\n",
              "         'z': 1})"
            ]
          },
          "metadata": {
            "tags": []
          },
          "execution_count": 130
        }
      ]
    },
    {
      "cell_type": "code",
      "metadata": {
        "colab": {
          "base_uri": "https://localhost:8080/"
        },
        "id": "DHae_NOGjoip",
        "outputId": "16e72a24-0450-4877-dcdc-427a795fe700"
      },
      "source": [
        "# vamos aplicar o metodo split que vai separar cada palavra da string\n",
        "# e armazenar numa lista\n",
        "# split vai usar o espaço como delimitador padrão\n",
        "# e assim consegue separar cada palavra\n",
        "# dessa forma Counter conta o ocorrencia de cada palavra\n",
        "Counter(st.split())"
      ],
      "execution_count": 132,
      "outputs": [
        {
          "output_type": "execute_result",
          "data": {
            "text/plain": [
              "Counter({'(MMS)': 1,\n",
              "         '(SMS).': 1,\n",
              "         '(e.g.,': 1,\n",
              "         '(happy': 1,\n",
              "         '(in': 1,\n",
              "         '(usually': 1,\n",
              "         '2010s,': 1,\n",
              "         'Advertisers': 1,\n",
              "         'Governmental': 1,\n",
              "         'In': 1,\n",
              "         'Internet': 1,\n",
              "         'It': 1,\n",
              "         'Like': 1,\n",
              "         'Message': 1,\n",
              "         'Messaging': 1,\n",
              "         'Multimedia': 1,\n",
              "         'Service': 2,\n",
              "         'Short': 1,\n",
              "         'Text': 4,\n",
              "         'The': 1,\n",
              "         'This': 1,\n",
              "         'a': 3,\n",
              "         'about': 1,\n",
              "         'accepted': 1,\n",
              "         'act': 1,\n",
              "         'activities).': 1,\n",
              "         'alphabetic': 1,\n",
              "         'alphanumeric': 1,\n",
              "         'also': 2,\n",
              "         'an': 2,\n",
              "         'and': 14,\n",
              "         'applications': 1,\n",
              "         'are': 1,\n",
              "         'as': 4,\n",
              "         'at': 2,\n",
              "         'automated': 1,\n",
              "         'be': 5,\n",
              "         'became': 1,\n",
              "         'between': 3,\n",
              "         'beyond': 1,\n",
              "         'both': 1,\n",
              "         'business': 1,\n",
              "         'busy': 2,\n",
              "         'call': 1,\n",
              "         'caller': 2,\n",
              "         'calling': 1,\n",
              "         'calls': 1,\n",
              "         'can': 1,\n",
              "         'cellular': 1,\n",
              "         'characters,': 1,\n",
              "         'colleagues,': 1,\n",
              "         'colleagues.': 1,\n",
              "         'communicate': 1,\n",
              "         'communication': 2,\n",
              "         'compatible': 1,\n",
              "         'composing': 1,\n",
              "         'computer.': 1,\n",
              "         'connection.': 1,\n",
              "         'consisting': 1,\n",
              "         'containing': 1,\n",
              "         'content,': 1,\n",
              "         'contests.': 1,\n",
              "         'contexts': 1,\n",
              "         'cultures,': 1,\n",
              "         'dates,': 1,\n",
              "         'desktops/laptops,': 1,\n",
              "         'devices).': 1,\n",
              "         'devices,': 1,\n",
              "         'digital': 1,\n",
              "         'direct': 1,\n",
              "         'directly': 1,\n",
              "         'does': 1,\n",
              "         'due': 1,\n",
              "         'e-commerce': 1,\n",
              "         'e-mail': 1,\n",
              "         'earlier': 1,\n",
              "         'easy': 1,\n",
              "         'electronic': 1,\n",
              "         'email,': 1,\n",
              "         'emailing.[1]': 1,\n",
              "         'emoji': 1,\n",
              "         'even': 1,\n",
              "         'example,': 1,\n",
              "         'faces,': 2,\n",
              "         'family': 2,\n",
              "         'family,': 1,\n",
              "         'for': 3,\n",
              "         'free': 1,\n",
              "         'friends,': 1,\n",
              "         'from': 1,\n",
              "         'grown': 1,\n",
              "         'happened': 1,\n",
              "         'has': 1,\n",
              "         'hopes': 1,\n",
              "         'icons),': 1,\n",
              "         'ideograms': 1,\n",
              "         'images,': 1,\n",
              "         'impolite': 1,\n",
              "         'in': 2,\n",
              "         'inappropriate': 1,\n",
              "         'include': 1,\n",
              "         'including': 1,\n",
              "         'individuals.': 1,\n",
              "         'informal': 1,\n",
              "         'instant': 1,\n",
              "         'instead': 1,\n",
              "         'interact': 1,\n",
              "         'is': 3,\n",
              "         'known': 1,\n",
              "         'knows': 1,\n",
              "         'late': 1,\n",
              "         'mail,': 1,\n",
              "         'makes': 1,\n",
              "         'many': 1,\n",
              "         'marketing': 1,\n",
              "         'may': 2,\n",
              "         'messages': 7,\n",
              "         'messages,': 1,\n",
              "         'messaging': 1,\n",
              "         'messaging,': 1,\n",
              "         'messenger': 1,\n",
              "         'mobile': 3,\n",
              "         'moment;': 1,\n",
              "         'more': 1,\n",
              "         'multimedia': 1,\n",
              "         'network,': 1,\n",
              "         'night': 1,\n",
              "         'non-governmental': 1,\n",
              "         'not': 1,\n",
              "         'notifications': 1,\n",
              "         'numeric': 1,\n",
              "         'of': 7,\n",
              "         'on': 1,\n",
              "         'one': 1,\n",
              "         'online': 1,\n",
              "         'or': 10,\n",
              "         'order': 1,\n",
              "         'organizations': 1,\n",
              "         'originally': 1,\n",
              "         'other': 4,\n",
              "         'over': 1,\n",
              "         'part': 1,\n",
              "         'participate': 1,\n",
              "         'payment': 1,\n",
              "         'permits': 1,\n",
              "         'person': 1,\n",
              "         'personal,': 1,\n",
              "         'postal': 1,\n",
              "         'products': 1,\n",
              "         'promotions,': 1,\n",
              "         'providers': 1,\n",
              "         'purposes.': 1,\n",
              "         'quick': 1,\n",
              "         'recipient': 1,\n",
              "         'recipient),': 1,\n",
              "         'referred': 1,\n",
              "         'require': 1,\n",
              "         'sad': 1,\n",
              "         'same': 1,\n",
              "         'send': 1,\n",
              "         'sending': 2,\n",
              "         'sent': 3,\n",
              "         'service': 1,\n",
              "         'services': 1,\n",
              "         'short': 1,\n",
              "         'social': 1,\n",
              "         'sound': 1,\n",
              "         'speak': 1,\n",
              "         'systems,': 1,\n",
              "         'term': 2,\n",
              "         'text': 3,\n",
              "         'texting': 2,\n",
              "         'texting,': 1,\n",
              "         'the': 11,\n",
              "         'this': 1,\n",
              "         'to': 10,\n",
              "         'two': 1,\n",
              "         'type': 1,\n",
              "         'typically': 1,\n",
              "         'unlike': 1,\n",
              "         'use': 2,\n",
              "         'used': 3,\n",
              "         'users': 2,\n",
              "         'using': 3,\n",
              "         'very': 1,\n",
              "         'via': 1,\n",
              "         'videos,': 1,\n",
              "         'voicemail': 1,\n",
              "         'voicemail.': 1,\n",
              "         'way': 1,\n",
              "         'websites,': 1,\n",
              "         'well': 1,\n",
              "         'when': 2,\n",
              "         'where': 1,\n",
              "         'which': 1,\n",
              "         'with': 5,\n",
              "         'work': 1,\n",
              "         'would': 1})"
            ]
          },
          "metadata": {
            "tags": []
          },
          "execution_count": 132
        }
      ]
    },
    {
      "cell_type": "code",
      "metadata": {
        "id": "HEOdMW_4kiNt"
      },
      "source": [
        "# vamos atribuir esse valor para uma variável\n",
        "# dessa forma teremos acesso aos métodos de Counter\n",
        "x = Counter(st.split())"
      ],
      "execution_count": 133,
      "outputs": []
    },
    {
      "cell_type": "code",
      "metadata": {
        "colab": {
          "base_uri": "https://localhost:8080/"
        },
        "id": "TY0UszMelOsU",
        "outputId": "4826ab69-083d-4255-bf58-622bf6fa73a6"
      },
      "source": [
        "# quais sao as 20 palavras mais comuns\n",
        "x.most_common(20)"
      ],
      "execution_count": 134,
      "outputs": [
        {
          "output_type": "execute_result",
          "data": {
            "text/plain": [
              "[('and', 14),\n",
              " ('the', 11),\n",
              " ('or', 10),\n",
              " ('to', 10),\n",
              " ('of', 7),\n",
              " ('messages', 7),\n",
              " ('be', 5),\n",
              " ('with', 5),\n",
              " ('Text', 4),\n",
              " ('other', 4),\n",
              " ('as', 4),\n",
              " ('is', 3),\n",
              " ('between', 3),\n",
              " ('mobile', 3),\n",
              " ('sent', 3),\n",
              " ('a', 3),\n",
              " ('using', 3),\n",
              " ('text', 3),\n",
              " ('used', 3),\n",
              " ('for', 3)]"
            ]
          },
          "metadata": {
            "tags": []
          },
          "execution_count": 134
        }
      ]
    },
    {
      "cell_type": "code",
      "metadata": {
        "colab": {
          "base_uri": "https://localhost:8080/"
        },
        "id": "sWMStnd7lWl8",
        "outputId": "0ae71aca-777f-4f9b-f161-512453bef354"
      },
      "source": [
        "help(x)"
      ],
      "execution_count": 141,
      "outputs": [
        {
          "output_type": "stream",
          "text": [
            "Help on Counter in module collections object:\n",
            "\n",
            "class Counter(builtins.dict)\n",
            " |  Counter(*args, **kwds)\n",
            " |  \n",
            " |  Dict subclass for counting hashable items.  Sometimes called a bag\n",
            " |  or multiset.  Elements are stored as dictionary keys and their counts\n",
            " |  are stored as dictionary values.\n",
            " |  \n",
            " |  >>> c = Counter('abcdeabcdabcaba')  # count elements from a string\n",
            " |  \n",
            " |  >>> c.most_common(3)                # three most common elements\n",
            " |  [('a', 5), ('b', 4), ('c', 3)]\n",
            " |  >>> sorted(c)                       # list all unique elements\n",
            " |  ['a', 'b', 'c', 'd', 'e']\n",
            " |  >>> ''.join(sorted(c.elements()))   # list elements with repetitions\n",
            " |  'aaaaabbbbcccdde'\n",
            " |  >>> sum(c.values())                 # total of all counts\n",
            " |  15\n",
            " |  \n",
            " |  >>> c['a']                          # count of letter 'a'\n",
            " |  5\n",
            " |  >>> for elem in 'shazam':           # update counts from an iterable\n",
            " |  ...     c[elem] += 1                # by adding 1 to each element's count\n",
            " |  >>> c['a']                          # now there are seven 'a'\n",
            " |  7\n",
            " |  >>> del c['b']                      # remove all 'b'\n",
            " |  >>> c['b']                          # now there are zero 'b'\n",
            " |  0\n",
            " |  \n",
            " |  >>> d = Counter('simsalabim')       # make another counter\n",
            " |  >>> c.update(d)                     # add in the second counter\n",
            " |  >>> c['a']                          # now there are nine 'a'\n",
            " |  9\n",
            " |  \n",
            " |  >>> c.clear()                       # empty the counter\n",
            " |  >>> c\n",
            " |  Counter()\n",
            " |  \n",
            " |  Note:  If a count is set to zero or reduced to zero, it will remain\n",
            " |  in the counter until the entry is deleted or the counter is cleared:\n",
            " |  \n",
            " |  >>> c = Counter('aaabbc')\n",
            " |  >>> c['b'] -= 2                     # reduce the count of 'b' by two\n",
            " |  >>> c.most_common()                 # 'b' is still in, but its count is zero\n",
            " |  [('a', 3), ('c', 1), ('b', 0)]\n",
            " |  \n",
            " |  Method resolution order:\n",
            " |      Counter\n",
            " |      builtins.dict\n",
            " |      builtins.object\n",
            " |  \n",
            " |  Methods defined here:\n",
            " |  \n",
            " |  __add__(self, other)\n",
            " |      Add counts from two counters.\n",
            " |      \n",
            " |      >>> Counter('abbb') + Counter('bcc')\n",
            " |      Counter({'b': 4, 'c': 2, 'a': 1})\n",
            " |  \n",
            " |  __and__(self, other)\n",
            " |      Intersection is the minimum of corresponding counts.\n",
            " |      \n",
            " |      >>> Counter('abbb') & Counter('bcc')\n",
            " |      Counter({'b': 1})\n",
            " |  \n",
            " |  __delitem__(self, elem)\n",
            " |      Like dict.__delitem__() but does not raise KeyError for missing values.\n",
            " |  \n",
            " |  __iadd__(self, other)\n",
            " |      Inplace add from another counter, keeping only positive counts.\n",
            " |      \n",
            " |      >>> c = Counter('abbb')\n",
            " |      >>> c += Counter('bcc')\n",
            " |      >>> c\n",
            " |      Counter({'b': 4, 'c': 2, 'a': 1})\n",
            " |  \n",
            " |  __iand__(self, other)\n",
            " |      Inplace intersection is the minimum of corresponding counts.\n",
            " |      \n",
            " |      >>> c = Counter('abbb')\n",
            " |      >>> c &= Counter('bcc')\n",
            " |      >>> c\n",
            " |      Counter({'b': 1})\n",
            " |  \n",
            " |  __init__(*args, **kwds)\n",
            " |      Create a new, empty Counter object.  And if given, count elements\n",
            " |      from an input iterable.  Or, initialize the count from another mapping\n",
            " |      of elements to their counts.\n",
            " |      \n",
            " |      >>> c = Counter()                           # a new, empty counter\n",
            " |      >>> c = Counter('gallahad')                 # a new counter from an iterable\n",
            " |      >>> c = Counter({'a': 4, 'b': 2})           # a new counter from a mapping\n",
            " |      >>> c = Counter(a=4, b=2)                   # a new counter from keyword args\n",
            " |  \n",
            " |  __ior__(self, other)\n",
            " |      Inplace union is the maximum of value from either counter.\n",
            " |      \n",
            " |      >>> c = Counter('abbb')\n",
            " |      >>> c |= Counter('bcc')\n",
            " |      >>> c\n",
            " |      Counter({'b': 3, 'c': 2, 'a': 1})\n",
            " |  \n",
            " |  __isub__(self, other)\n",
            " |      Inplace subtract counter, but keep only results with positive counts.\n",
            " |      \n",
            " |      >>> c = Counter('abbbc')\n",
            " |      >>> c -= Counter('bccd')\n",
            " |      >>> c\n",
            " |      Counter({'b': 2, 'a': 1})\n",
            " |  \n",
            " |  __missing__(self, key)\n",
            " |      The count of elements not in the Counter is zero.\n",
            " |  \n",
            " |  __neg__(self)\n",
            " |      Subtracts from an empty counter.  Strips positive and zero counts,\n",
            " |      and flips the sign on negative counts.\n",
            " |  \n",
            " |  __or__(self, other)\n",
            " |      Union is the maximum of value in either of the input counters.\n",
            " |      \n",
            " |      >>> Counter('abbb') | Counter('bcc')\n",
            " |      Counter({'b': 3, 'c': 2, 'a': 1})\n",
            " |  \n",
            " |  __pos__(self)\n",
            " |      Adds an empty counter, effectively stripping negative and zero counts\n",
            " |  \n",
            " |  __reduce__(self)\n",
            " |      Helper for pickle.\n",
            " |  \n",
            " |  __repr__(self)\n",
            " |      Return repr(self).\n",
            " |  \n",
            " |  __sub__(self, other)\n",
            " |      Subtract count, but keep only results with positive counts.\n",
            " |      \n",
            " |      >>> Counter('abbbc') - Counter('bccd')\n",
            " |      Counter({'b': 2, 'a': 1})\n",
            " |  \n",
            " |  copy(self)\n",
            " |      Return a shallow copy.\n",
            " |  \n",
            " |  elements(self)\n",
            " |      Iterator over elements repeating each as many times as its count.\n",
            " |      \n",
            " |      >>> c = Counter('ABCABC')\n",
            " |      >>> sorted(c.elements())\n",
            " |      ['A', 'A', 'B', 'B', 'C', 'C']\n",
            " |      \n",
            " |      # Knuth's example for prime factors of 1836:  2**2 * 3**3 * 17**1\n",
            " |      >>> prime_factors = Counter({2: 2, 3: 3, 17: 1})\n",
            " |      >>> product = 1\n",
            " |      >>> for factor in prime_factors.elements():     # loop over factors\n",
            " |      ...     product *= factor                       # and multiply them\n",
            " |      >>> product\n",
            " |      1836\n",
            " |      \n",
            " |      Note, if an element's count has been set to zero or is a negative\n",
            " |      number, elements() will ignore it.\n",
            " |  \n",
            " |  most_common(self, n=None)\n",
            " |      List the n most common elements and their counts from the most\n",
            " |      common to the least.  If n is None, then list all element counts.\n",
            " |      \n",
            " |      >>> Counter('abcdeabcdabcaba').most_common(3)\n",
            " |      [('a', 5), ('b', 4), ('c', 3)]\n",
            " |  \n",
            " |  subtract(*args, **kwds)\n",
            " |      Like dict.update() but subtracts counts instead of replacing them.\n",
            " |      Counts can be reduced below zero.  Both the inputs and outputs are\n",
            " |      allowed to contain zero and negative counts.\n",
            " |      \n",
            " |      Source can be an iterable, a dictionary, or another Counter instance.\n",
            " |      \n",
            " |      >>> c = Counter('which')\n",
            " |      >>> c.subtract('witch')             # subtract elements from another iterable\n",
            " |      >>> c.subtract(Counter('watch'))    # subtract elements from another counter\n",
            " |      >>> c['h']                          # 2 in which, minus 1 in witch, minus 1 in watch\n",
            " |      0\n",
            " |      >>> c['w']                          # 1 in which, minus 1 in witch, minus 1 in watch\n",
            " |      -1\n",
            " |  \n",
            " |  update(*args, **kwds)\n",
            " |      Like dict.update() but add counts instead of replacing them.\n",
            " |      \n",
            " |      Source can be an iterable, a dictionary, or another Counter instance.\n",
            " |      \n",
            " |      >>> c = Counter('which')\n",
            " |      >>> c.update('witch')           # add elements from another iterable\n",
            " |      >>> d = Counter('watch')\n",
            " |      >>> c.update(d)                 # add elements from another counter\n",
            " |      >>> c['h']                      # four 'h' in which, witch, and watch\n",
            " |      4\n",
            " |  \n",
            " |  ----------------------------------------------------------------------\n",
            " |  Class methods defined here:\n",
            " |  \n",
            " |  fromkeys(iterable, v=None) from builtins.type\n",
            " |      Create a new dictionary with keys from iterable and values set to value.\n",
            " |  \n",
            " |  ----------------------------------------------------------------------\n",
            " |  Data descriptors defined here:\n",
            " |  \n",
            " |  __dict__\n",
            " |      dictionary for instance variables (if defined)\n",
            " |  \n",
            " |  __weakref__\n",
            " |      list of weak references to the object (if defined)\n",
            " |  \n",
            " |  ----------------------------------------------------------------------\n",
            " |  Methods inherited from builtins.dict:\n",
            " |  \n",
            " |  __contains__(self, key, /)\n",
            " |      True if the dictionary has the specified key, else False.\n",
            " |  \n",
            " |  __eq__(self, value, /)\n",
            " |      Return self==value.\n",
            " |  \n",
            " |  __ge__(self, value, /)\n",
            " |      Return self>=value.\n",
            " |  \n",
            " |  __getattribute__(self, name, /)\n",
            " |      Return getattr(self, name).\n",
            " |  \n",
            " |  __getitem__(...)\n",
            " |      x.__getitem__(y) <==> x[y]\n",
            " |  \n",
            " |  __gt__(self, value, /)\n",
            " |      Return self>value.\n",
            " |  \n",
            " |  __iter__(self, /)\n",
            " |      Implement iter(self).\n",
            " |  \n",
            " |  __le__(self, value, /)\n",
            " |      Return self<=value.\n",
            " |  \n",
            " |  __len__(self, /)\n",
            " |      Return len(self).\n",
            " |  \n",
            " |  __lt__(self, value, /)\n",
            " |      Return self<value.\n",
            " |  \n",
            " |  __ne__(self, value, /)\n",
            " |      Return self!=value.\n",
            " |  \n",
            " |  __setitem__(self, key, value, /)\n",
            " |      Set self[key] to value.\n",
            " |  \n",
            " |  __sizeof__(...)\n",
            " |      D.__sizeof__() -> size of D in memory, in bytes\n",
            " |  \n",
            " |  clear(...)\n",
            " |      D.clear() -> None.  Remove all items from D.\n",
            " |  \n",
            " |  get(self, key, default=None, /)\n",
            " |      Return the value for key if key is in the dictionary, else default.\n",
            " |  \n",
            " |  items(...)\n",
            " |      D.items() -> a set-like object providing a view on D's items\n",
            " |  \n",
            " |  keys(...)\n",
            " |      D.keys() -> a set-like object providing a view on D's keys\n",
            " |  \n",
            " |  pop(...)\n",
            " |      D.pop(k[,d]) -> v, remove specified key and return the corresponding value.\n",
            " |      If key is not found, d is returned if given, otherwise KeyError is raised\n",
            " |  \n",
            " |  popitem(...)\n",
            " |      D.popitem() -> (k, v), remove and return some (key, value) pair as a\n",
            " |      2-tuple; but raise KeyError if D is empty.\n",
            " |  \n",
            " |  setdefault(self, key, default=None, /)\n",
            " |      Insert key with a value of default if key is not in the dictionary.\n",
            " |      \n",
            " |      Return the value for key if key is in the dictionary, else default.\n",
            " |  \n",
            " |  values(...)\n",
            " |      D.values() -> an object providing a view on D's values\n",
            " |  \n",
            " |  ----------------------------------------------------------------------\n",
            " |  Static methods inherited from builtins.dict:\n",
            " |  \n",
            " |  __new__(*args, **kwargs) from builtins.type\n",
            " |      Create and return a new object.  See help(type) for accurate signature.\n",
            " |  \n",
            " |  ----------------------------------------------------------------------\n",
            " |  Data and other attributes inherited from builtins.dict:\n",
            " |  \n",
            " |  __hash__ = None\n",
            "\n"
          ],
          "name": "stdout"
        }
      ]
    },
    {
      "cell_type": "code",
      "metadata": {
        "id": "wYmsPrydpdMw"
      },
      "source": [
        ""
      ],
      "execution_count": null,
      "outputs": []
    }
  ]
}