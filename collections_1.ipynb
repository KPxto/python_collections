{
  "nbformat": 4,
  "nbformat_minor": 0,
  "metadata": {
    "colab": {
      "name": "collections#1.ipynb",
      "provenance": [],
      "collapsed_sections": [],
      "authorship_tag": "ABX9TyN4x6DdmCnMv6gEnE1BKhNy",
      "include_colab_link": true
    },
    "kernelspec": {
      "name": "python3",
      "display_name": "Python 3"
    },
    "language_info": {
      "name": "python"
    }
  },
  "cells": [
    {
      "cell_type": "markdown",
      "metadata": {
        "id": "view-in-github",
        "colab_type": "text"
      },
      "source": [
        "<a href=\"https://colab.research.google.com/github/KPxto/python_collections/blob/main/collections_1.ipynb\" target=\"_parent\"><img src=\"https://colab.research.google.com/assets/colab-badge.svg\" alt=\"Open In Colab\"/></a>"
      ]
    },
    {
      "cell_type": "markdown",
      "metadata": {
        "id": "F9QJodK37fiA"
      },
      "source": [
        "### Live de Python #28\n",
        "\n",
        "[link para aula](https://www.youtube.com/watch?v=ubCNqPNIx5Q)"
      ]
    },
    {
      "cell_type": "code",
      "metadata": {
        "id": "H3oCsSCCp-Zp"
      },
      "source": [
        "import pandas as pd"
      ],
      "execution_count": 3,
      "outputs": []
    },
    {
      "cell_type": "markdown",
      "metadata": {
        "id": "eCmIs3Nxl_eQ"
      },
      "source": [
        "#**Deque e Nametuple**"
      ]
    },
    {
      "cell_type": "markdown",
      "metadata": {
        "id": "Tn2LrvljpLzr"
      },
      "source": [
        "O que é uma deque\n",
        "\n",
        "- Ela é tipo uma lista, só que com mais flexibilidade\n",
        "- Uma mistura de pilha, lista e fila\n"
      ]
    },
    {
      "cell_type": "markdown",
      "metadata": {
        "id": "DwOCpKCrw0Zw"
      },
      "source": [
        "Vamos ver aqui o exemplo de uma lista e alguns métodos"
      ]
    },
    {
      "cell_type": "code",
      "metadata": {
        "id": "thTWjKTlpR-4"
      },
      "source": [
        "# criando uma lista l vazia\n",
        "l = []"
      ],
      "execution_count": 22,
      "outputs": []
    },
    {
      "cell_type": "code",
      "metadata": {
        "id": "O8XvtN5XomHg",
        "colab": {
          "base_uri": "https://localhost:8080/"
        },
        "outputId": "ccbf02e8-259a-4ed0-e2bf-636a863ef449"
      },
      "source": [
        "# um dos metodos da lista\n",
        "l.insert"
      ],
      "execution_count": 9,
      "outputs": [
        {
          "output_type": "execute_result",
          "data": {
            "text/plain": [
              "<function list.insert>"
            ]
          },
          "metadata": {
            "tags": []
          },
          "execution_count": 9
        }
      ]
    },
    {
      "cell_type": "code",
      "metadata": {
        "colab": {
          "base_uri": "https://localhost:8080/"
        },
        "id": "o2dhwkmjwlis",
        "outputId": "3d02e38b-126d-448d-c7f6-2af8ec44053b"
      },
      "source": [
        "# a função help descreve que o método insert é uma função da instancia da lista\n",
        "# insert pede os argumentos index e object\n",
        "help(l.insert)"
      ],
      "execution_count": 11,
      "outputs": [
        {
          "output_type": "stream",
          "text": [
            "Help on built-in function insert:\n",
            "\n",
            "insert(index, object, /) method of builtins.list instance\n",
            "    Insert object before index.\n",
            "\n"
          ],
          "name": "stdout"
        }
      ]
    },
    {
      "cell_type": "code",
      "metadata": {
        "id": "HhWjZML-xK4j"
      },
      "source": [
        "# inserindo uma string na posição 0\n",
        "l.insert(0, 'Rio')"
      ],
      "execution_count": 23,
      "outputs": []
    },
    {
      "cell_type": "code",
      "metadata": {
        "colab": {
          "base_uri": "https://localhost:8080/",
          "height": 35
        },
        "id": "d813U9eqxeKU",
        "outputId": "7c66a05a-d717-4c0b-a0c2-eea591065320"
      },
      "source": [
        "# tentando inserir a string numa posição 3\n",
        "# como a lista só tem 1 elemento a posição preenchida será a última disponível\n",
        "l.insert(3, 'Salvador')\n",
        "l[1]"
      ],
      "execution_count": 24,
      "outputs": [
        {
          "output_type": "execute_result",
          "data": {
            "application/vnd.google.colaboratory.intrinsic+json": {
              "type": "string"
            },
            "text/plain": [
              "'Salvador'"
            ]
          },
          "metadata": {
            "tags": []
          },
          "execution_count": 24
        }
      ]
    },
    {
      "cell_type": "code",
      "metadata": {
        "colab": {
          "base_uri": "https://localhost:8080/"
        },
        "id": "Z36gwPJrxhOb",
        "outputId": "827dfa2a-642f-47df-c162-9b8a00d5a5c8"
      },
      "source": [
        "l"
      ],
      "execution_count": 25,
      "outputs": [
        {
          "output_type": "execute_result",
          "data": {
            "text/plain": [
              "['Rio', 'Salvador']"
            ]
          },
          "metadata": {
            "tags": []
          },
          "execution_count": 25
        }
      ]
    },
    {
      "cell_type": "code",
      "metadata": {
        "colab": {
          "base_uri": "https://localhost:8080/"
        },
        "id": "W-aDTbJpyHDd",
        "outputId": "2f07181e-b398-42f1-83a7-2b3b52c4106a"
      },
      "source": [
        "# se inserir outra string numa posição já ocupada, a lista vai empurrar o valor\n",
        "# existente para a próxima posição vazia\n",
        "# No caso abaixo, Salvador vai para a posição 2\n",
        "l.insert(1, 'Boston')\n",
        "l"
      ],
      "execution_count": 26,
      "outputs": [
        {
          "output_type": "execute_result",
          "data": {
            "text/plain": [
              "['Rio', 'Boston', 'Salvador']"
            ]
          },
          "metadata": {
            "tags": []
          },
          "execution_count": 26
        }
      ]
    },
    {
      "cell_type": "code",
      "metadata": {
        "id": "iZm0lpkmyYb0"
      },
      "source": [
        "# o método remove deleta o valor passado no argumento\n",
        "l.remove('Salvador')"
      ],
      "execution_count": 27,
      "outputs": []
    },
    {
      "cell_type": "code",
      "metadata": {
        "colab": {
          "base_uri": "https://localhost:8080/"
        },
        "id": "Kg4tWQbkyzYY",
        "outputId": "1bf88a88-dc3f-4f47-97f1-73690bdb30c4"
      },
      "source": [
        "l"
      ],
      "execution_count": 38,
      "outputs": [
        {
          "output_type": "execute_result",
          "data": {
            "text/plain": [
              "['Rio', 'Boston']"
            ]
          },
          "metadata": {
            "tags": []
          },
          "execution_count": 38
        }
      ]
    },
    {
      "cell_type": "code",
      "metadata": {
        "id": "F6lanpAVzJRN"
      },
      "source": [
        "l.remove(1)"
      ],
      "execution_count": 36,
      "outputs": []
    },
    {
      "cell_type": "markdown",
      "metadata": {
        "id": "JLjJXFtazJ3Y"
      },
      "source": [
        ">>Com os exemplos acima notamos uma característica importante da lista: ela pode inserir valores em qualquer posição e também pode remover valores em qualquer posição."
      ]
    },
    {
      "cell_type": "markdown",
      "metadata": {
        "id": "Z50gEtS40NOs"
      },
      "source": [
        "### Começando a explorar a biblioteca collections"
      ]
    },
    {
      "cell_type": "markdown",
      "metadata": {
        "id": "xFT9dFd1nLre"
      },
      "source": [
        "## Deque"
      ]
    },
    {
      "cell_type": "code",
      "metadata": {
        "id": "5fikaQVKzLqW"
      },
      "source": [
        "# importando o modulo deque da biblioteca collections\n",
        "from collections import deque"
      ],
      "execution_count": 3,
      "outputs": []
    },
    {
      "cell_type": "code",
      "metadata": {
        "id": "H0BfzfoH0Cjr"
      },
      "source": [
        "# para demonstrar as engrenagens, vamos criar uma classe imitando uma lista\n",
        "# esta classe terá alguns métodos da lista\n",
        "class Lista:\n",
        "  def __init__(self):\n",
        "    self.lista = deque()\n",
        "  \n",
        "  # criando o método inserir \n",
        "  # val --> valor a ser inserido\n",
        "  # pos --> posição a ser ocupada\n",
        "  def insere(self, val, pos=None):\n",
        "    if pos:\n",
        "      self.lista.insert(val, pos)\n",
        "    # se não tiver posição definida, o valor vai pro final da lista\n",
        "    else:\n",
        "      self.lista.append(val)\n",
        "\n",
        "  # este método vai apenas replicar o método padrão de remover\n",
        "  def remove(self, val):\n",
        "    return self.lista.remove(val)\n",
        "  \n",
        "  def __repr__(self):\n",
        "    return f\"Lista [{', '.join(str(x) for x in self.lista)}]\""
      ],
      "execution_count": 117,
      "outputs": []
    },
    {
      "cell_type": "markdown",
      "metadata": {
        "id": "Cvue8uN_29e2"
      },
      "source": [
        ">> Ou seja, acabamos de criar uma classe Lista imitando o comportamento de uma lista usando deque como base"
      ]
    },
    {
      "cell_type": "code",
      "metadata": {
        "id": "uGT5qz0Z3109"
      },
      "source": [
        "lista = Lista()"
      ],
      "execution_count": 128,
      "outputs": []
    },
    {
      "cell_type": "code",
      "metadata": {
        "colab": {
          "base_uri": "https://localhost:8080/"
        },
        "id": "hPgmG_G74fNx",
        "outputId": "e3d55dad-c4b0-4ed7-a1e3-538bd2ed4c6b"
      },
      "source": [
        "# vemos que ela não tem nada ainda\n",
        "# aqui o dunder method __repr_ ajuda a mostrar de forma mais limpa\n",
        "lista"
      ],
      "execution_count": 129,
      "outputs": [
        {
          "output_type": "execute_result",
          "data": {
            "text/plain": [
              "Lista []"
            ]
          },
          "metadata": {
            "tags": []
          },
          "execution_count": 129
        }
      ]
    },
    {
      "cell_type": "code",
      "metadata": {
        "id": "oxjH_bhT4h2i"
      },
      "source": [
        "# vamos usar um dos nossos métodos criados\n",
        "# como não foi passado posição, nossa classe usa método append nas entrelinhas\n",
        "lista.insere(99)"
      ],
      "execution_count": 130,
      "outputs": []
    },
    {
      "cell_type": "code",
      "metadata": {
        "colab": {
          "base_uri": "https://localhost:8080/"
        },
        "id": "4UQLGo5p4uVU",
        "outputId": "1e722444-3423-49e5-b587-7e0a880cff40"
      },
      "source": [
        "lista"
      ],
      "execution_count": 131,
      "outputs": [
        {
          "output_type": "execute_result",
          "data": {
            "text/plain": [
              "Lista [99]"
            ]
          },
          "metadata": {
            "tags": []
          },
          "execution_count": 131
        }
      ]
    },
    {
      "cell_type": "code",
      "metadata": {
        "id": "CIjfGoMt5E8g"
      },
      "source": [
        "lista.insere(100)"
      ],
      "execution_count": 132,
      "outputs": []
    },
    {
      "cell_type": "code",
      "metadata": {
        "colab": {
          "base_uri": "https://localhost:8080/"
        },
        "id": "a1fVO6Mz5TmY",
        "outputId": "b0f6ab42-b870-44cd-8df3-7a05ae013058"
      },
      "source": [
        "lista"
      ],
      "execution_count": 133,
      "outputs": [
        {
          "output_type": "execute_result",
          "data": {
            "text/plain": [
              "Lista [99, 100]"
            ]
          },
          "metadata": {
            "tags": []
          },
          "execution_count": 133
        }
      ]
    },
    {
      "cell_type": "code",
      "metadata": {
        "id": "tYG6Z4tt5UQj"
      },
      "source": [
        "lista.insere(0, 'kaio')"
      ],
      "execution_count": 134,
      "outputs": []
    },
    {
      "cell_type": "code",
      "metadata": {
        "colab": {
          "base_uri": "https://localhost:8080/"
        },
        "id": "oiMA6tE37_N5",
        "outputId": "d0ef54e1-bcc4-4973-d306-d4ae9d6d7025"
      },
      "source": [
        "lista"
      ],
      "execution_count": 135,
      "outputs": [
        {
          "output_type": "execute_result",
          "data": {
            "text/plain": [
              "Lista [kaio, 99, 100]"
            ]
          },
          "metadata": {
            "tags": []
          },
          "execution_count": 135
        }
      ]
    },
    {
      "cell_type": "markdown",
      "metadata": {
        "id": "RM6uPpaa8YkL"
      },
      "source": [
        "Conceito de fila\n",
        "\n",
        "Vamos relembrar como funciona uma fila para entender melhor a deque.\n",
        "\n",
        "Primeiro a chegar primeiro a sair. \n",
        "\n",
        "Ela só insere novos elementos no seu final. E só remove do final.\n",
        "\n",
        "Vamos criar uma classe abaixo que reproduz o comportamente de uma fila."
      ]
    },
    {
      "cell_type": "code",
      "metadata": {
        "id": "H9hnOW6hjcv8"
      },
      "source": [
        "# agora vamos criar outra classe e nomeá-la como fila\n",
        "class Fila:\n",
        "  def __init__(self):\n",
        "    self.lista = deque()\n",
        "  \n",
        "  # criando o método inserir \n",
        "  # val --> valor a ser inserido\n",
        "  # como ela só insere no final, usaremos o append nesse método da Fila  \n",
        "  def insere(self, val):\n",
        "      self.lista.append(val)\n",
        "\n",
        "  # filas só removem elementos do início\n",
        "  # então usaremos o método do deque popleft, que retira posição 0\n",
        "  def remove(self):\n",
        "    return self.lista.popleft()\n",
        "  \n",
        "  def __repr__(self):\n",
        "    return f\"Fila [{', '.join(str(x) for x in self.lista)}]\""
      ],
      "execution_count": 1,
      "outputs": []
    },
    {
      "cell_type": "markdown",
      "metadata": {
        "id": "ujjLCsMNklms"
      },
      "source": [
        ">> No método remove, veja que não utilizamos o pop padrão das listas já que este método só remove os elementos do final da lista."
      ]
    },
    {
      "cell_type": "code",
      "metadata": {
        "id": "EX919LZTlQd1"
      },
      "source": [
        "# criando nossa instancia da Fila\n",
        "f = Fila()"
      ],
      "execution_count": 17,
      "outputs": []
    },
    {
      "cell_type": "code",
      "metadata": {
        "id": "90vT3dgclaTx"
      },
      "source": [
        "# chegou o primeiro elemento na fila\n",
        "f.insere(10)"
      ],
      "execution_count": 18,
      "outputs": []
    },
    {
      "cell_type": "code",
      "metadata": {
        "colab": {
          "base_uri": "https://localhost:8080/"
        },
        "id": "CkhrrDMAlcgL",
        "outputId": "0cd88fa6-2bda-4de9-a009-fff322a5264b"
      },
      "source": [
        "f"
      ],
      "execution_count": 19,
      "outputs": [
        {
          "output_type": "execute_result",
          "data": {
            "text/plain": [
              "Fila [10]"
            ]
          },
          "metadata": {
            "tags": []
          },
          "execution_count": 19
        }
      ]
    },
    {
      "cell_type": "code",
      "metadata": {
        "id": "XFE40ygrldOH"
      },
      "source": [
        "# agora foi adicionado um segundo elemento na fila\n",
        "# que que este elemento foi para o final da fila\n",
        "f.insere(99)"
      ],
      "execution_count": 20,
      "outputs": []
    },
    {
      "cell_type": "code",
      "metadata": {
        "colab": {
          "base_uri": "https://localhost:8080/"
        },
        "id": "KHiq-F4elflz",
        "outputId": "ca209cc2-3e5e-4d1f-ba68-665b5cf13bf8"
      },
      "source": [
        "f"
      ],
      "execution_count": 21,
      "outputs": [
        {
          "output_type": "execute_result",
          "data": {
            "text/plain": [
              "Fila [10, 99]"
            ]
          },
          "metadata": {
            "tags": []
          },
          "execution_count": 21
        }
      ]
    },
    {
      "cell_type": "code",
      "metadata": {
        "colab": {
          "base_uri": "https://localhost:8080/"
        },
        "id": "_wC_4k1VlgPj",
        "outputId": "5fc0aa6f-281a-4b0a-99f8-c5154c213df2"
      },
      "source": [
        "f.insere('xpto')\n",
        "f"
      ],
      "execution_count": 22,
      "outputs": [
        {
          "output_type": "execute_result",
          "data": {
            "text/plain": [
              "Fila [10, 99, xpto]"
            ]
          },
          "metadata": {
            "tags": []
          },
          "execution_count": 22
        }
      ]
    },
    {
      "cell_type": "code",
      "metadata": {
        "colab": {
          "base_uri": "https://localhost:8080/"
        },
        "id": "YuOsiA2vmFs4",
        "outputId": "ecdc21f0-e84b-4413-bfa1-a9091b02167b"
      },
      "source": [
        "# agora o primeiro elemento foi atendido e precisamos removê-lo da fila\n",
        "f.remove()"
      ],
      "execution_count": 23,
      "outputs": [
        {
          "output_type": "execute_result",
          "data": {
            "text/plain": [
              "10"
            ]
          },
          "metadata": {
            "tags": []
          },
          "execution_count": 23
        }
      ]
    },
    {
      "cell_type": "markdown",
      "metadata": {
        "id": "4VVpq68AmSEM"
      },
      "source": [
        ">> veja que, como o método pop da lista, o popleft remove o item da lista e retorna seu valor, que pode ser armazenado se quiser"
      ]
    },
    {
      "cell_type": "code",
      "metadata": {
        "id": "uAm8I2t8mdNK"
      },
      "source": [
        "# vamos retirar o proximo item e armazená-lo numa variável por exemplo\n",
        "n_99 = f.remove()"
      ],
      "execution_count": 24,
      "outputs": []
    },
    {
      "cell_type": "code",
      "metadata": {
        "colab": {
          "base_uri": "https://localhost:8080/"
        },
        "id": "z0Nx8Y22mxUc",
        "outputId": "43d42221-969e-4d16-c86a-1b78c4cbebea"
      },
      "source": [
        "n_99"
      ],
      "execution_count": 25,
      "outputs": [
        {
          "output_type": "execute_result",
          "data": {
            "text/plain": [
              "99"
            ]
          },
          "metadata": {
            "tags": []
          },
          "execution_count": 25
        }
      ]
    },
    {
      "cell_type": "markdown",
      "metadata": {
        "id": "U5FtpeeSmyK2"
      },
      "source": [
        "### Pilha"
      ]
    },
    {
      "cell_type": "markdown",
      "metadata": {
        "id": "hnNxRttNnQnI"
      },
      "source": [
        "Ao contrário da fila, na pilha o primeiro a chegar é o último a sair.\n",
        "\n",
        "Vamos novamente criar uma classe para simular uma pilha.\n",
        "\n",
        "Mais uma vez usaremos o deque para criar nossa classe.\n"
      ]
    },
    {
      "cell_type": "code",
      "metadata": {
        "id": "IOojE-KDoHjt"
      },
      "source": [
        "class Pilha:\n",
        "  def __init__(self):\n",
        "    self.lista = deque()\n",
        "  \n",
        "  # criando o método inserir \n",
        "  # val --> valor a ser inserido\n",
        "  # como ela só insere no final, usaremos o append nesse método da Fila  \n",
        "  def insere(self, val):\n",
        "      self.lista.append(val)\n",
        "\n",
        "  # pilhas só removem elementos do final\n",
        "  # então usaremos o método pop, que já faz isso normalmente\n",
        "  def remove(self):\n",
        "    return self.lista.pop()\n",
        "  \n",
        "  def __repr__(self):\n",
        "    return f\"Pilha [{', '.join(str(x) for x in self.lista)}]\""
      ],
      "execution_count": 26,
      "outputs": []
    },
    {
      "cell_type": "code",
      "metadata": {
        "id": "AVmXNd0noiJP"
      },
      "source": [
        "p = Pilha()"
      ],
      "execution_count": 27,
      "outputs": []
    },
    {
      "cell_type": "code",
      "metadata": {
        "id": "9tGZir8_ojoe"
      },
      "source": [
        "p.insere(10)"
      ],
      "execution_count": 28,
      "outputs": []
    },
    {
      "cell_type": "code",
      "metadata": {
        "id": "04e4zvUVon48"
      },
      "source": [
        "p.insere(99)"
      ],
      "execution_count": 29,
      "outputs": []
    },
    {
      "cell_type": "code",
      "metadata": {
        "id": "AGnFN2IgopJW"
      },
      "source": [
        "p.insere('xpto')"
      ],
      "execution_count": 30,
      "outputs": []
    },
    {
      "cell_type": "code",
      "metadata": {
        "colab": {
          "base_uri": "https://localhost:8080/"
        },
        "id": "B3K5z6YMoql4",
        "outputId": "c14dbd46-2ca7-4c7b-c4bb-c5fda8518a04"
      },
      "source": [
        "p"
      ],
      "execution_count": 31,
      "outputs": [
        {
          "output_type": "execute_result",
          "data": {
            "text/plain": [
              "Pilha [10, 99, xpto]"
            ]
          },
          "metadata": {
            "tags": []
          },
          "execution_count": 31
        }
      ]
    },
    {
      "cell_type": "code",
      "metadata": {
        "colab": {
          "base_uri": "https://localhost:8080/",
          "height": 35
        },
        "id": "zsbr7-_noq8V",
        "outputId": "02f51c2e-5942-466f-a3f8-f5bb23171a36"
      },
      "source": [
        "# agora veremos como a pilha se comporta diferente da fila ao remover um elemento\n",
        "# aqui a pilha vai remover o último elemento e vai nos mostrar qual é esse elemento\n",
        "p.remove()"
      ],
      "execution_count": 32,
      "outputs": [
        {
          "output_type": "execute_result",
          "data": {
            "application/vnd.google.colaboratory.intrinsic+json": {
              "type": "string"
            },
            "text/plain": [
              "'xpto'"
            ]
          },
          "metadata": {
            "tags": []
          },
          "execution_count": 32
        }
      ]
    },
    {
      "cell_type": "code",
      "metadata": {
        "colab": {
          "base_uri": "https://localhost:8080/"
        },
        "id": "jRxoUHlNo6Wp",
        "outputId": "d2127991-19ff-4b30-eb2c-89545a3a9b25"
      },
      "source": [
        "p"
      ],
      "execution_count": 33,
      "outputs": [
        {
          "output_type": "execute_result",
          "data": {
            "text/plain": [
              "Pilha [10, 99]"
            ]
          },
          "metadata": {
            "tags": []
          },
          "execution_count": 33
        }
      ]
    },
    {
      "cell_type": "markdown",
      "metadata": {
        "id": "F7Ya7r6eo6-k"
      },
      "source": [
        "Resumindo tudo o que vimos acima, uma deque é uma mistura dos 3:\n",
        "\n",
        "- Lista\n",
        "- Fila\n",
        "- Pilha\n",
        "\n",
        "Ela insere e remove de qualquer lado ou posição do array.\n",
        "\n",
        "Além disso podemos também definir um tamanho máximo ou rotacionar a lista. \n",
        "\n",
        "Para exemplificar uma utilidade do dia a dia com essa estrutura, vamos usar o deque para criar um cache."
      ]
    },
    {
      "cell_type": "code",
      "metadata": {
        "id": "y2ccz5NNplta"
      },
      "source": [
        "# onde as informações ficarão armazenadas\n",
        "cache_value = deque()"
      ],
      "execution_count": 41,
      "outputs": []
    },
    {
      "cell_type": "code",
      "metadata": {
        "id": "NAga8m3iqVfj"
      },
      "source": [
        "# criando a função que usará outra função como argumento\n",
        "def cache(func):\n",
        "  def inner(*args):\n",
        "    cache_value.append(args)\n",
        "    return func(*args)\n",
        "  return inner "
      ],
      "execution_count": 47,
      "outputs": []
    },
    {
      "cell_type": "code",
      "metadata": {
        "id": "apcSv_Jgq6q-"
      },
      "source": [
        "# aora vamos criar uma nova função soma e decorá-la com a função cache\n",
        "@cache\n",
        "def soma (x, y):\n",
        "  return x + y"
      ],
      "execution_count": 48,
      "outputs": []
    },
    {
      "cell_type": "code",
      "metadata": {
        "colab": {
          "base_uri": "https://localhost:8080/"
        },
        "id": "TUnz1ZiarA1i",
        "outputId": "d4b52c5d-15a6-41eb-b213-644750be577d"
      },
      "source": [
        "# ok, aqui nossa função funciona normalmente\n",
        "soma(3, 2)"
      ],
      "execution_count": 52,
      "outputs": [
        {
          "output_type": "execute_result",
          "data": {
            "text/plain": [
              "5"
            ]
          },
          "metadata": {
            "tags": []
          },
          "execution_count": 52
        }
      ]
    },
    {
      "cell_type": "code",
      "metadata": {
        "colab": {
          "base_uri": "https://localhost:8080/"
        },
        "id": "F-rZtSjvrDpo",
        "outputId": "034ee5fa-34b9-49d6-f45e-fa7c3bd125e8"
      },
      "source": [
        "# mas como ela estava decorada, a função cache capturou seus argumentos\n",
        "# então toda vez q você rodar a função soma, seus valores vão sendo guardados\n",
        "cache_value"
      ],
      "execution_count": 54,
      "outputs": [
        {
          "output_type": "execute_result",
          "data": {
            "text/plain": [
              "deque([(1, 2), (1, 2), (1, 2), (3, 2)])"
            ]
          },
          "metadata": {
            "tags": []
          },
          "execution_count": 54
        }
      ]
    },
    {
      "cell_type": "code",
      "metadata": {
        "id": "Xh6Og4Yrrf1z"
      },
      "source": [
        "# agora vamos estabelecer um limite para armazenamento de cache\n",
        "# vamos supor que quero guardar só os 3 últimos valores\n",
        "# usaremos o argumento maxlen para especificar qual tamanho a lista deve ter\n",
        "cache_value = deque(maxlen=3)"
      ],
      "execution_count": 56,
      "outputs": []
    },
    {
      "cell_type": "code",
      "metadata": {
        "colab": {
          "base_uri": "https://localhost:8080/"
        },
        "id": "8G5J90Fesmof",
        "outputId": "f4187d3c-db7d-4ba7-c322-986ee73bcc7c"
      },
      "source": [
        "soma(9, 9)"
      ],
      "execution_count": 57,
      "outputs": [
        {
          "output_type": "execute_result",
          "data": {
            "text/plain": [
              "18"
            ]
          },
          "metadata": {
            "tags": []
          },
          "execution_count": 57
        }
      ]
    },
    {
      "cell_type": "code",
      "metadata": {
        "colab": {
          "base_uri": "https://localhost:8080/"
        },
        "id": "vkum8KQXsyIR",
        "outputId": "eb5cab39-16b1-4473-947c-7f374f6a1cd8"
      },
      "source": [
        "soma(99, 19)"
      ],
      "execution_count": 60,
      "outputs": [
        {
          "output_type": "execute_result",
          "data": {
            "text/plain": [
              "118"
            ]
          },
          "metadata": {
            "tags": []
          },
          "execution_count": 60
        }
      ]
    },
    {
      "cell_type": "code",
      "metadata": {
        "colab": {
          "base_uri": "https://localhost:8080/"
        },
        "id": "RHDnYZvls4nl",
        "outputId": "ef08f1b9-626c-49ba-b4e5-6b2b8b133c7f"
      },
      "source": [
        "soma(194, 394)"
      ],
      "execution_count": 61,
      "outputs": [
        {
          "output_type": "execute_result",
          "data": {
            "text/plain": [
              "588"
            ]
          },
          "metadata": {
            "tags": []
          },
          "execution_count": 61
        }
      ]
    },
    {
      "cell_type": "code",
      "metadata": {
        "colab": {
          "base_uri": "https://localhost:8080/"
        },
        "id": "moSs97wvs52x",
        "outputId": "a747d4e0-1296-46e2-d0a0-f401bb282193"
      },
      "source": [
        "# nosso cache guardou os últimos valores inseridos, ok\n",
        "cache_value"
      ],
      "execution_count": 62,
      "outputs": [
        {
          "output_type": "execute_result",
          "data": {
            "text/plain": [
              "deque([(9, 9), (99, 19), (194, 394)])"
            ]
          },
          "metadata": {
            "tags": []
          },
          "execution_count": 62
        }
      ]
    },
    {
      "cell_type": "code",
      "metadata": {
        "colab": {
          "base_uri": "https://localhost:8080/"
        },
        "id": "zZ9_2QHGs7HA",
        "outputId": "ca9e8721-fe06-4537-c071-622145cbca8b"
      },
      "source": [
        "# agora vamos adicionar mais elementos para nosso histórico\n",
        "# esse será o quarto elemento adicionado\n",
        "soma(192, 934)"
      ],
      "execution_count": 63,
      "outputs": [
        {
          "output_type": "execute_result",
          "data": {
            "text/plain": [
              "1126"
            ]
          },
          "metadata": {
            "tags": []
          },
          "execution_count": 63
        }
      ]
    },
    {
      "cell_type": "code",
      "metadata": {
        "colab": {
          "base_uri": "https://localhost:8080/"
        },
        "id": "85stWm5Qs98K",
        "outputId": "bd18d3b0-0050-4a84-ab4e-79a4b71a998e"
      },
      "source": [
        "# veja que cache_value continua exibindo o histórico\n",
        "# mas agora só exibe 3 valores\n",
        "cache_value"
      ],
      "execution_count": 64,
      "outputs": [
        {
          "output_type": "execute_result",
          "data": {
            "text/plain": [
              "deque([(99, 19), (194, 394), (192, 934)])"
            ]
          },
          "metadata": {
            "tags": []
          },
          "execution_count": 64
        }
      ]
    },
    {
      "cell_type": "code",
      "metadata": {
        "colab": {
          "base_uri": "https://localhost:8080/"
        },
        "id": "QnK99hUNs_Bl",
        "outputId": "3cb1c066-f1b2-4d38-e5a0-4e35a0baacd7"
      },
      "source": [
        "soma(0, 1)"
      ],
      "execution_count": 65,
      "outputs": [
        {
          "output_type": "execute_result",
          "data": {
            "text/plain": [
              "1"
            ]
          },
          "metadata": {
            "tags": []
          },
          "execution_count": 65
        }
      ]
    },
    {
      "cell_type": "code",
      "metadata": {
        "colab": {
          "base_uri": "https://localhost:8080/"
        },
        "id": "Ojh_AyyGtbc4",
        "outputId": "7a29cc29-1cb3-488a-8835-6f1968953cda"
      },
      "source": [
        "# perceba que a lista vai 'andando'\n",
        "# ela remove o primeiro elemento e joga o novo elemento para o final\n",
        "cache_value"
      ],
      "execution_count": 66,
      "outputs": [
        {
          "output_type": "execute_result",
          "data": {
            "text/plain": [
              "deque([(194, 394), (192, 934), (0, 1)])"
            ]
          },
          "metadata": {
            "tags": []
          },
          "execution_count": 66
        }
      ]
    },
    {
      "cell_type": "code",
      "metadata": {
        "id": "KnsBIt1JtcsB"
      },
      "source": [
        "# vamos agora inserir um novo valor à esquerda\n",
        "cache_value.appendleft((1, 1))"
      ],
      "execution_count": 67,
      "outputs": []
    },
    {
      "cell_type": "code",
      "metadata": {
        "colab": {
          "base_uri": "https://localhost:8080/"
        },
        "id": "Ce0lCGssuSQk",
        "outputId": "5a04f8be-0361-49ad-f744-54efb80d0f01"
      },
      "source": [
        "cache_value"
      ],
      "execution_count": 68,
      "outputs": [
        {
          "output_type": "execute_result",
          "data": {
            "text/plain": [
              "deque([(1, 1), (194, 394), (192, 934)])"
            ]
          },
          "metadata": {
            "tags": []
          },
          "execution_count": 68
        }
      ]
    },
    {
      "cell_type": "markdown",
      "metadata": {
        "id": "xv5rsWfNuTej"
      },
      "source": [
        ">> Veja que a lista ainda fica limitada a 3 elementos e o novo item é inserido na primeiro posição da esquerda para a direita"
      ]
    },
    {
      "cell_type": "markdown",
      "metadata": {
        "id": "t6HjX-C1ufHl"
      },
      "source": [
        "Rotacionando lista"
      ]
    },
    {
      "cell_type": "code",
      "metadata": {
        "id": "CK4-Zz5duwvl"
      },
      "source": [
        "cache_value.rotate()"
      ],
      "execution_count": 69,
      "outputs": []
    },
    {
      "cell_type": "code",
      "metadata": {
        "colab": {
          "base_uri": "https://localhost:8080/"
        },
        "id": "lhBBc9cRu0Xc",
        "outputId": "5cc9c956-219f-482b-a277-485eaa0f17ff"
      },
      "source": [
        "# pegou o último elemento e jogou para a primeira posição\n",
        "cache_value"
      ],
      "execution_count": 70,
      "outputs": [
        {
          "output_type": "execute_result",
          "data": {
            "text/plain": [
              "deque([(192, 934), (1, 1), (194, 394)])"
            ]
          },
          "metadata": {
            "tags": []
          },
          "execution_count": 70
        }
      ]
    },
    {
      "cell_type": "code",
      "metadata": {
        "id": "F0_Gre_Cu1eI"
      },
      "source": [
        "# aqui só rotacionamos 2 elementos da lista\n",
        "cache_value.rotate(2)"
      ],
      "execution_count": 72,
      "outputs": []
    },
    {
      "cell_type": "code",
      "metadata": {
        "colab": {
          "base_uri": "https://localhost:8080/"
        },
        "id": "1aU96FxIvUGF",
        "outputId": "85c6eb91-9a1c-46bc-b3b0-c34c3f593f22"
      },
      "source": [
        "cache_value"
      ],
      "execution_count": 73,
      "outputs": [
        {
          "output_type": "execute_result",
          "data": {
            "text/plain": [
              "deque([(1, 1), (194, 394), (192, 934)])"
            ]
          },
          "metadata": {
            "tags": []
          },
          "execution_count": 73
        }
      ]
    },
    {
      "cell_type": "markdown",
      "metadata": {
        "id": "B054d80UvaVY"
      },
      "source": [
        "### Função tail\n",
        "\n",
        "Função do linux (e presente no pandas tbm) onde selecionamos as últimas linhas de um texto ou tabela.\n",
        "\n",
        "Aqui vamos criar uma função com essa mesma característica usando o deque.\n",
        "\n",
        "Essa lista receberá um arquivo como argumento e nos retornará as últimas linhas desse arquivo."
      ]
    },
    {
      "cell_type": "code",
      "metadata": {
        "id": "V2JTsht3wwhM"
      },
      "source": [
        "def tail(filename, n=10):\n",
        "  with open(filename) as f:\n",
        "    return deque(f, n)"
      ],
      "execution_count": 79,
      "outputs": []
    },
    {
      "cell_type": "markdown",
      "metadata": {
        "id": "oSYKUeeGxj1D"
      },
      "source": [
        "## NamedTuple\n",
        "\n",
        "São acessíveis via index e slicing. Funcionam como dicionários com chave-valor"
      ]
    },
    {
      "cell_type": "code",
      "metadata": {
        "id": "xutcKaAsyNG9"
      },
      "source": [
        "from collections import namedtuple"
      ],
      "execution_count": 80,
      "outputs": []
    },
    {
      "cell_type": "code",
      "metadata": {
        "id": "tuQOMAlMy1Lf"
      },
      "source": [
        "n_t = namedtuple('jogador', ['nome', 'time', 'camisa'])"
      ],
      "execution_count": 81,
      "outputs": []
    },
    {
      "cell_type": "code",
      "metadata": {
        "colab": {
          "base_uri": "https://localhost:8080/"
        },
        "id": "v4sCy6rQzB6j",
        "outputId": "0c801d06-839f-4c6f-a5ae-17563f180bb8"
      },
      "source": [
        "n_t('Ronaldo', \"Brasil\", 9)"
      ],
      "execution_count": 82,
      "outputs": [
        {
          "output_type": "execute_result",
          "data": {
            "text/plain": [
              "jogador(nome='Ronaldo', time='Brasil', camisa=9)"
            ]
          },
          "metadata": {
            "tags": []
          },
          "execution_count": 82
        }
      ]
    },
    {
      "cell_type": "code",
      "metadata": {
        "id": "l0Z5INIvzHH_"
      },
      "source": [
        "# agora vamos 'instanciar' para a variável j\n",
        "j = n_t('Ronaldo', 'Brasil', 9)"
      ],
      "execution_count": 83,
      "outputs": []
    },
    {
      "cell_type": "code",
      "metadata": {
        "colab": {
          "base_uri": "https://localhost:8080/",
          "height": 35
        },
        "id": "EezbhJAQzXX5",
        "outputId": "8dad8ce9-7f8f-4444-c5b8-52f451776d9c"
      },
      "source": [
        "# é acessível por índice e slicing\n",
        "j[0]"
      ],
      "execution_count": 89,
      "outputs": [
        {
          "output_type": "execute_result",
          "data": {
            "application/vnd.google.colaboratory.intrinsic+json": {
              "type": "string"
            },
            "text/plain": [
              "'Ronaldo'"
            ]
          },
          "metadata": {
            "tags": []
          },
          "execution_count": 89
        }
      ]
    },
    {
      "cell_type": "code",
      "metadata": {
        "colab": {
          "base_uri": "https://localhost:8080/"
        },
        "id": "rHmQB_8NzhyQ",
        "outputId": "07ae464e-cb0e-4314-a42d-67aa9ca75f15"
      },
      "source": [
        "j[1:]"
      ],
      "execution_count": 90,
      "outputs": [
        {
          "output_type": "execute_result",
          "data": {
            "text/plain": [
              "('Brasil', 9)"
            ]
          },
          "metadata": {
            "tags": []
          },
          "execution_count": 90
        }
      ]
    },
    {
      "cell_type": "code",
      "metadata": {
        "colab": {
          "base_uri": "https://localhost:8080/",
          "height": 35
        },
        "id": "zIcguiZvzjML",
        "outputId": "d4c9c7a1-72f0-486a-9678-b32953f8ebf6"
      },
      "source": [
        "# também é acessível como atributo\n",
        "j.nome"
      ],
      "execution_count": 91,
      "outputs": [
        {
          "output_type": "execute_result",
          "data": {
            "application/vnd.google.colaboratory.intrinsic+json": {
              "type": "string"
            },
            "text/plain": [
              "'Ronaldo'"
            ]
          },
          "metadata": {
            "tags": []
          },
          "execution_count": 91
        }
      ]
    },
    {
      "cell_type": "markdown",
      "metadata": {
        "id": "SCEgV14oznkV"
      },
      "source": [
        "Então, como iniciamos uma nametuple.\n",
        "\n",
        "- Uma string com o tipo ou classe da qual a tupla pertence\n",
        "  - no caso acima foi 'jogador' \n",
        "- Um iterável de strings com os atributos\n",
        "\n",
        "A estrutura é como segue abaixo:\n",
        "\n",
        "nametuple('jogador', ['nome', 'time', 'camisa'])"
      ]
    },
    {
      "cell_type": "markdown",
      "metadata": {
        "id": "B-Tyxrly0Gir"
      },
      "source": [
        "Uma vantagem sobre o dicionário é que namedtuple é imutável. Não aceita mudanças depois de criada.\n",
        "\n",
        "Vamos criar um baralho usando namedtuple para exemplificar."
      ]
    },
    {
      "cell_type": "code",
      "metadata": {
        "id": "AF_RERhm2MwM"
      },
      "source": [
        "naipes = 'P C O E'.split()\n",
        "valores = list(range(2, 11)) + 'A J Q K'.split()"
      ],
      "execution_count": 105,
      "outputs": []
    },
    {
      "cell_type": "code",
      "metadata": {
        "colab": {
          "base_uri": "https://localhost:8080/"
        },
        "id": "O_OarvwG263L",
        "outputId": "7be41b68-7dc7-473a-89f4-ba5bfbc3280b"
      },
      "source": [
        "naipes"
      ],
      "execution_count": 106,
      "outputs": [
        {
          "output_type": "execute_result",
          "data": {
            "text/plain": [
              "['P', 'C', 'O', 'E']"
            ]
          },
          "metadata": {
            "tags": []
          },
          "execution_count": 106
        }
      ]
    },
    {
      "cell_type": "code",
      "metadata": {
        "colab": {
          "base_uri": "https://localhost:8080/"
        },
        "id": "3dzVvS9l3ese",
        "outputId": "9067582e-9489-418d-8c10-6c62e4b0ed7b"
      },
      "source": [
        "valores"
      ],
      "execution_count": 107,
      "outputs": [
        {
          "output_type": "execute_result",
          "data": {
            "text/plain": [
              "[2, 3, 4, 5, 6, 7, 8, 9, 10, 'A', 'J', 'Q', 'K']"
            ]
          },
          "metadata": {
            "tags": []
          },
          "execution_count": 107
        }
      ]
    },
    {
      "cell_type": "code",
      "metadata": {
        "id": "cbEwTnPc3fo4"
      },
      "source": [
        "carta = namedtuple('Carta', 'naipe valor')"
      ],
      "execution_count": 109,
      "outputs": []
    },
    {
      "cell_type": "code",
      "metadata": {
        "id": "tgbEhHTg3ttu"
      },
      "source": [
        "# vamos passar uma list comprehension para percorrer e combinar cada valor\n",
        "baralho = [carta(naipe, valor) for naipe in naipes for valor in valores]"
      ],
      "execution_count": 116,
      "outputs": []
    },
    {
      "cell_type": "code",
      "metadata": {
        "colab": {
          "base_uri": "https://localhost:8080/"
        },
        "id": "Xojuvk835xKC",
        "outputId": "bfb7463d-c512-478f-fc38-aaaa35f96641"
      },
      "source": [
        "baralho"
      ],
      "execution_count": 117,
      "outputs": [
        {
          "output_type": "execute_result",
          "data": {
            "text/plain": [
              "[Carta(naipe='P', valor=2),\n",
              " Carta(naipe='P', valor=3),\n",
              " Carta(naipe='P', valor=4),\n",
              " Carta(naipe='P', valor=5),\n",
              " Carta(naipe='P', valor=6),\n",
              " Carta(naipe='P', valor=7),\n",
              " Carta(naipe='P', valor=8),\n",
              " Carta(naipe='P', valor=9),\n",
              " Carta(naipe='P', valor=10),\n",
              " Carta(naipe='P', valor='A'),\n",
              " Carta(naipe='P', valor='J'),\n",
              " Carta(naipe='P', valor='Q'),\n",
              " Carta(naipe='P', valor='K'),\n",
              " Carta(naipe='C', valor=2),\n",
              " Carta(naipe='C', valor=3),\n",
              " Carta(naipe='C', valor=4),\n",
              " Carta(naipe='C', valor=5),\n",
              " Carta(naipe='C', valor=6),\n",
              " Carta(naipe='C', valor=7),\n",
              " Carta(naipe='C', valor=8),\n",
              " Carta(naipe='C', valor=9),\n",
              " Carta(naipe='C', valor=10),\n",
              " Carta(naipe='C', valor='A'),\n",
              " Carta(naipe='C', valor='J'),\n",
              " Carta(naipe='C', valor='Q'),\n",
              " Carta(naipe='C', valor='K'),\n",
              " Carta(naipe='O', valor=2),\n",
              " Carta(naipe='O', valor=3),\n",
              " Carta(naipe='O', valor=4),\n",
              " Carta(naipe='O', valor=5),\n",
              " Carta(naipe='O', valor=6),\n",
              " Carta(naipe='O', valor=7),\n",
              " Carta(naipe='O', valor=8),\n",
              " Carta(naipe='O', valor=9),\n",
              " Carta(naipe='O', valor=10),\n",
              " Carta(naipe='O', valor='A'),\n",
              " Carta(naipe='O', valor='J'),\n",
              " Carta(naipe='O', valor='Q'),\n",
              " Carta(naipe='O', valor='K'),\n",
              " Carta(naipe='E', valor=2),\n",
              " Carta(naipe='E', valor=3),\n",
              " Carta(naipe='E', valor=4),\n",
              " Carta(naipe='E', valor=5),\n",
              " Carta(naipe='E', valor=6),\n",
              " Carta(naipe='E', valor=7),\n",
              " Carta(naipe='E', valor=8),\n",
              " Carta(naipe='E', valor=9),\n",
              " Carta(naipe='E', valor=10),\n",
              " Carta(naipe='E', valor='A'),\n",
              " Carta(naipe='E', valor='J'),\n",
              " Carta(naipe='E', valor='Q'),\n",
              " Carta(naipe='E', valor='K')]"
            ]
          },
          "metadata": {
            "tags": []
          },
          "execution_count": 117
        }
      ]
    },
    {
      "cell_type": "code",
      "metadata": {
        "id": "xjhWS4ip7Uo1"
      },
      "source": [
        ""
      ],
      "execution_count": null,
      "outputs": []
    }
  ]
}