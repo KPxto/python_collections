{
  "nbformat": 4,
  "nbformat_minor": 0,
  "metadata": {
    "colab": {
      "name": "collections#3.ipynb",
      "provenance": [],
      "collapsed_sections": [],
      "authorship_tag": "ABX9TyNPUucajq+AzJmcNhFuv8rO",
      "include_colab_link": true
    },
    "kernelspec": {
      "name": "python3",
      "display_name": "Python 3"
    },
    "language_info": {
      "name": "python"
    }
  },
  "cells": [
    {
      "cell_type": "markdown",
      "metadata": {
        "id": "view-in-github",
        "colab_type": "text"
      },
      "source": [
        "<a href=\"https://colab.research.google.com/github/KPxto/python_collections/blob/main/collections_3.ipynb\" target=\"_parent\"><img src=\"https://colab.research.google.com/assets/colab-badge.svg\" alt=\"Open In Colab\"/></a>"
      ]
    },
    {
      "cell_type": "markdown",
      "metadata": {
        "id": "6etAjqzcrKcT"
      },
      "source": [
        "#**Live de Python #30**\n",
        "\n",
        "[link para aula](https://www.youtube.com/watch?v=TF6oIYAOlag&t=2935s)"
      ]
    },
    {
      "cell_type": "markdown",
      "metadata": {
        "id": "epc8McDmrMCr"
      },
      "source": [
        "#**Chainmap e Userdict**"
      ]
    },
    {
      "cell_type": "markdown",
      "metadata": {
        "id": "cC12kXc7qWl-"
      },
      "source": [
        "### **Índice**\n",
        "\n",
        "* 1.[Itertools.chain](#iter)\n",
        "* 2.[Avaliação de curto circuto](#curto)\n",
        "* 3.[Chainmap](#cmp)"
      ]
    },
    {
      "cell_type": "markdown",
      "metadata": {
        "id": "UzXYIEzUrOJa"
      },
      "source": [
        "<a name='iter'></a>\n",
        "###Itertools.chain\n",
        "\n",
        "Itera todos valores de uma sequencia e no final dessa sequencia se inicia a próxima."
      ]
    },
    {
      "cell_type": "code",
      "metadata": {
        "id": "ucj68ccyrPEd"
      },
      "source": [
        "from itertools import chain"
      ],
      "execution_count": 3,
      "outputs": []
    },
    {
      "cell_type": "code",
      "metadata": {
        "id": "sfVHQDFRrVUo"
      },
      "source": [
        "a = [1, 2, 3, 4]\n",
        "b = [5, 6, 7, 8]"
      ],
      "execution_count": 4,
      "outputs": []
    },
    {
      "cell_type": "code",
      "metadata": {
        "colab": {
          "base_uri": "https://localhost:8080/"
        },
        "id": "uMoiFNa1r5z6",
        "outputId": "f43513fe-edac-45d8-fad5-42094dd13025"
      },
      "source": [
        "for i in chain(a, b):\n",
        "  print(i)"
      ],
      "execution_count": 5,
      "outputs": [
        {
          "output_type": "stream",
          "text": [
            "1\n",
            "2\n",
            "3\n",
            "4\n",
            "5\n",
            "6\n",
            "7\n",
            "8\n"
          ],
          "name": "stdout"
        }
      ]
    },
    {
      "cell_type": "markdown",
      "metadata": {
        "id": "kMChIwyZr7hd"
      },
      "source": [
        ">**Veja que no exemplo acima, o módulo chain permitiu que o laço percorresse na lista a e depois b como se fossem uma única lista. Ou seja, houve uma união de iteráveis**"
      ]
    },
    {
      "cell_type": "markdown",
      "metadata": {
        "id": "q_9-sbM1lel_"
      },
      "source": [
        "Poderíamos fazer a mesma operação fazendo simplesmente uma adição normal de listas:"
      ]
    },
    {
      "cell_type": "code",
      "metadata": {
        "colab": {
          "base_uri": "https://localhost:8080/"
        },
        "id": "BmXP2tTOshPD",
        "outputId": "3a5ff0c7-f951-4e0b-f678-be25c153535c"
      },
      "source": [
        "for i in a + b:\n",
        "  print(i)"
      ],
      "execution_count": 6,
      "outputs": [
        {
          "output_type": "stream",
          "text": [
            "1\n",
            "2\n",
            "3\n",
            "4\n",
            "5\n",
            "6\n",
            "7\n",
            "8\n"
          ],
          "name": "stdout"
        }
      ]
    },
    {
      "cell_type": "markdown",
      "metadata": {
        "id": "Cz6eF50ulpS5"
      },
      "source": [
        "Então, qual a diferença de usar o chain para essa maneira de adição comum?\n",
        "\n",
        "A diferença básica é que o chain usa o lazy evaluation para retornar os valores.\n",
        "\n",
        "Não lembra o que são lazy e eager evaluation? Reveja abaixo:"
      ]
    },
    {
      "cell_type": "markdown",
      "metadata": {
        "id": "otX_rVvdsgX2"
      },
      "source": [
        "- Lazy Evaluation\n",
        "  - Retorna o resultado só quando necessário\n",
        "\n",
        "- Earger Evaluation\n",
        "  - Retorna o resultado de uma expressão imadiatamente"
      ]
    },
    {
      "cell_type": "code",
      "metadata": {
        "colab": {
          "base_uri": "https://localhost:8080/"
        },
        "id": "DrRE26FPkZbi",
        "outputId": "a8d19dd4-9fad-4b74-94f2-1d3cb06ef5e7"
      },
      "source": [
        "chain(a, b)"
      ],
      "execution_count": 7,
      "outputs": [
        {
          "output_type": "execute_result",
          "data": {
            "text/plain": [
              "<itertools.chain at 0x7fddf04b5750>"
            ]
          },
          "metadata": {
            "tags": []
          },
          "execution_count": 7
        }
      ]
    },
    {
      "cell_type": "markdown",
      "metadata": {
        "id": "VVeUC4xPmHlE"
      },
      "source": [
        ">**Veja que chain das listas 'a' e 'b' vai retornar um objeto do tipo chain**"
      ]
    },
    {
      "cell_type": "markdown",
      "metadata": {
        "id": "KSC9c59Fm3fD"
      },
      "source": [
        "Agora vejamos abaixo como essa lazy evaluation se comporta. Armazenamos o objeto chain numa variável e depois retornamos o valor conforme pedimos."
      ]
    },
    {
      "cell_type": "code",
      "metadata": {
        "id": "DRy21gXOmkQZ"
      },
      "source": [
        "var = chain(a, b)"
      ],
      "execution_count": 14,
      "outputs": []
    },
    {
      "cell_type": "code",
      "metadata": {
        "colab": {
          "base_uri": "https://localhost:8080/"
        },
        "id": "Ne0pvRcamwMj",
        "outputId": "53f5229f-59b8-451a-b5f2-d2a951641584"
      },
      "source": [
        "next(var)"
      ],
      "execution_count": 9,
      "outputs": [
        {
          "output_type": "execute_result",
          "data": {
            "text/plain": [
              "1"
            ]
          },
          "metadata": {
            "tags": []
          },
          "execution_count": 9
        }
      ]
    },
    {
      "cell_type": "code",
      "metadata": {
        "colab": {
          "base_uri": "https://localhost:8080/"
        },
        "id": "XuE2_81Xmxjy",
        "outputId": "ca0dfc91-ab37-45e8-eab1-7ba8e6055e05"
      },
      "source": [
        "next(var)"
      ],
      "execution_count": 10,
      "outputs": [
        {
          "output_type": "execute_result",
          "data": {
            "text/plain": [
              "2"
            ]
          },
          "metadata": {
            "tags": []
          },
          "execution_count": 10
        }
      ]
    },
    {
      "cell_type": "code",
      "metadata": {
        "colab": {
          "base_uri": "https://localhost:8080/"
        },
        "id": "4uLOfScKmzZb",
        "outputId": "6fce8241-de4a-4fa2-f476-cfbfeedbddeb"
      },
      "source": [
        "next(var)"
      ],
      "execution_count": 11,
      "outputs": [
        {
          "output_type": "execute_result",
          "data": {
            "text/plain": [
              "3"
            ]
          },
          "metadata": {
            "tags": []
          },
          "execution_count": 11
        }
      ]
    },
    {
      "cell_type": "code",
      "metadata": {
        "colab": {
          "base_uri": "https://localhost:8080/"
        },
        "id": "i-jOWai8m012",
        "outputId": "3a5fb024-22cf-4a5a-cecb-44b02dc633c6"
      },
      "source": [
        "for i in var:\n",
        "  print(i)"
      ],
      "execution_count": 12,
      "outputs": [
        {
          "output_type": "stream",
          "text": [
            "4\n",
            "5\n",
            "6\n",
            "7\n",
            "8\n"
          ],
          "name": "stdout"
        }
      ]
    },
    {
      "cell_type": "markdown",
      "metadata": {
        "id": "dMnZ64_NnKZm"
      },
      "source": [
        ">**O chain não vai se dar ao trabalho de montar toda uma estrutura. O valor só será retornado quando necessário**"
      ]
    },
    {
      "cell_type": "markdown",
      "metadata": {
        "id": "_apZWfeDnsuh"
      },
      "source": [
        "Para fazer com que nosso objeto faça uma eager evaluation, basta transformá-lo numa lista que todos os elementos serão retornados de vez"
      ]
    },
    {
      "cell_type": "code",
      "metadata": {
        "colab": {
          "base_uri": "https://localhost:8080/"
        },
        "id": "_5FHE_aKnfZq",
        "outputId": "82d0c87d-481b-4098-f09c-9b0f7bc17b52"
      },
      "source": [
        "list(var)"
      ],
      "execution_count": 15,
      "outputs": [
        {
          "output_type": "execute_result",
          "data": {
            "text/plain": [
              "[1, 2, 3, 4, 5, 6, 7, 8]"
            ]
          },
          "metadata": {
            "tags": []
          },
          "execution_count": 15
        }
      ]
    },
    {
      "cell_type": "markdown",
      "metadata": {
        "id": "gJE_ScwOno3U"
      },
      "source": [
        "<a name='curto'></a>\n",
        "### Avaliação de curto circuito\n",
        "\n",
        "Uma forma rápida de python avaliar operadores lógicos. Se a primeira condição satisfaz, o programa já retorna o resultado e para por aí."
      ]
    },
    {
      "cell_type": "code",
      "metadata": {
        "colab": {
          "base_uri": "https://localhost:8080/"
        },
        "id": "LcC7AFvvqOVg",
        "outputId": "82841f66-86b0-45bf-fb0d-d0cee67e1f48"
      },
      "source": [
        "7 or 8"
      ],
      "execution_count": 19,
      "outputs": [
        {
          "output_type": "execute_result",
          "data": {
            "text/plain": [
              "7"
            ]
          },
          "metadata": {
            "tags": []
          },
          "execution_count": 19
        }
      ]
    },
    {
      "cell_type": "markdown",
      "metadata": {
        "id": "4poPC7UXrQz5"
      },
      "source": [
        ">**Nesta operação ele avalia o que é verdadeiro e retorna um valor booleano. Como 7 já satisfaz a avaliação, ele retorna o valor verdadeiro dessa expressão, que no caso é 7. Como trata-se de um 'ou' não precisa avaliar o outro valor já que o primeiro responde a avaliação**"
      ]
    },
    {
      "cell_type": "code",
      "metadata": {
        "colab": {
          "base_uri": "https://localhost:8080/"
        },
        "id": "55LBT8sRrq9k",
        "outputId": "6909d03d-4421-4f6d-e8eb-0ec1fa5eb01d"
      },
      "source": [
        "7 and 8 and 9"
      ],
      "execution_count": 20,
      "outputs": [
        {
          "output_type": "execute_result",
          "data": {
            "text/plain": [
              "9"
            ]
          },
          "metadata": {
            "tags": []
          },
          "execution_count": 20
        }
      ]
    },
    {
      "cell_type": "markdown",
      "metadata": {
        "id": "DBNrs4UzsA5j"
      },
      "source": [
        ">**Já no caso de avaliação 'e', o programa precisa avaliar todos os valores para retornar o resultado booleano. Nesse caso, foi retornado o valor 9 por ser o último da expressão**"
      ]
    },
    {
      "cell_type": "code",
      "metadata": {
        "colab": {
          "base_uri": "https://localhost:8080/"
        },
        "id": "tBndf5WnsQ-S",
        "outputId": "e962d5fb-3093-46fd-86d7-c421f55e847c"
      },
      "source": [
        "0 and 7 and 8 and 9"
      ],
      "execution_count": 21,
      "outputs": [
        {
          "output_type": "execute_result",
          "data": {
            "text/plain": [
              "0"
            ]
          },
          "metadata": {
            "tags": []
          },
          "execution_count": 21
        }
      ]
    },
    {
      "cell_type": "markdown",
      "metadata": {
        "id": "vwV3D2KwsSxV"
      },
      "source": [
        ">**No entanto, veja que 0 quebra essa avaliação booleana. Isso porque, já que python não é nada, ele não pode ser avaliado. Qualquer outro valor que não seja 0 o python vai retornar como True**\n",
        "\n",
        ">**O mesmo princípio aplica-se para outras estruturas como listas e tuplas. Se elas estiverem vazias (nada), o retorno vai ser False e caso tenha pelo menos algum elemento, o retorno será True**"
      ]
    },
    {
      "cell_type": "markdown",
      "metadata": {
        "id": "bYL7pfQpsZXU"
      },
      "source": [
        "O operador in ou contain utiliza essa avaliação de curto circuito. Veja exemplo abaixo:"
      ]
    },
    {
      "cell_type": "code",
      "metadata": {
        "colab": {
          "base_uri": "https://localhost:8080/"
        },
        "id": "v6OsEJbdtoX8",
        "outputId": "7f794252-4030-4497-fbca-95b40b823bc5"
      },
      "source": [
        "1 in [1, 2, 3, 4, 5, 1]"
      ],
      "execution_count": 24,
      "outputs": [
        {
          "output_type": "execute_result",
          "data": {
            "text/plain": [
              "True"
            ]
          },
          "metadata": {
            "tags": []
          },
          "execution_count": 24
        }
      ]
    },
    {
      "cell_type": "markdown",
      "metadata": {
        "id": "qq5jeKUttrVl"
      },
      "source": [
        ">**Ou seja, apesar de haver dois números 1s na lista, o python precisou de avaliar somente o primeiro para saber que essa expressão é True. O primeiro elemento já satisfez a expressão e avaliação se encerra aí**"
      ]
    },
    {
      "cell_type": "code",
      "metadata": {
        "id": "qqoHE1LTvJyF"
      },
      "source": [
        "from itertools import count"
      ],
      "execution_count": 28,
      "outputs": []
    },
    {
      "cell_type": "code",
      "metadata": {
        "id": "ip8rKKVgt92X"
      },
      "source": [
        "def _in(val, seq):\n",
        "  c = count()\n",
        "  for i in seq:\n",
        "    print(next(c))\n",
        "    if i == val:\n",
        "      return True\n",
        "  return False"
      ],
      "execution_count": 31,
      "outputs": []
    },
    {
      "cell_type": "code",
      "metadata": {
        "colab": {
          "base_uri": "https://localhost:8080/"
        },
        "id": "VDq3D3sfvEJL",
        "outputId": "7fd43cd3-d0d7-4127-bb37-ebf93dbe3fae"
      },
      "source": [
        "_in(3, [2, 3, 4, 1, 3])"
      ],
      "execution_count": 34,
      "outputs": [
        {
          "output_type": "stream",
          "text": [
            "0\n",
            "1\n"
          ],
          "name": "stdout"
        },
        {
          "output_type": "execute_result",
          "data": {
            "text/plain": [
              "True"
            ]
          },
          "metadata": {
            "tags": []
          },
          "execution_count": 34
        }
      ]
    },
    {
      "cell_type": "markdown",
      "metadata": {
        "id": "ZjQlmNHivSPc"
      },
      "source": [
        ">**Veja que interessante este exemplo acima. Fizemos uma função simulando o comportamento do operador in e sua avaliação de curto circuito que estávamos falando. Adicionamos um contador que vai printar o número da contagem a cada vez que o laço percorrer. Agora note que apesar de termos 2 números 3s na lista acima ele só precisa avaliar a primeira ocorrencia do 3, e isso é evidenciado pelo número printado antes de retornar True**"
      ]
    },
    {
      "cell_type": "markdown",
      "metadata": {
        "id": "14lGgrTmwLp3"
      },
      "source": [
        "<a name='cmp'></a>\n",
        "### Chainmap\n",
        "\n",
        "Utilizado para encadear dicionários.\n",
        "\n",
        "Ao se deparar com mais de 1 dicionário e quisermos uni-los, a solução imediatada parece ser dar um update. Mas vejamos o que acontece..."
      ]
    },
    {
      "cell_type": "code",
      "metadata": {
        "id": "nM2IGv221mu-"
      },
      "source": [
        "from collections import ChainMap"
      ],
      "execution_count": 36,
      "outputs": []
    },
    {
      "cell_type": "code",
      "metadata": {
        "id": "phUeof58_nTs"
      },
      "source": [
        "a = {1:'a', 2:'b', 3:'c'}\n",
        "b = {2:'x', 3:'z', 4:'w'}"
      ],
      "execution_count": 40,
      "outputs": []
    },
    {
      "cell_type": "code",
      "metadata": {
        "id": "FD19Uvpo_4Mq"
      },
      "source": [
        "a.update(b)"
      ],
      "execution_count": 38,
      "outputs": []
    },
    {
      "cell_type": "code",
      "metadata": {
        "colab": {
          "base_uri": "https://localhost:8080/"
        },
        "id": "km-1kePaFE-A",
        "outputId": "617e0866-d34e-4985-c541-fbf68e6834bf"
      },
      "source": [
        "a"
      ],
      "execution_count": 39,
      "outputs": [
        {
          "output_type": "execute_result",
          "data": {
            "text/plain": [
              "{1: 'a', 2: 'x', 3: 'z', 4: 'w'}"
            ]
          },
          "metadata": {
            "tags": []
          },
          "execution_count": 39
        }
      ]
    },
    {
      "cell_type": "markdown",
      "metadata": {
        "id": "imt9OTgjFFbE"
      },
      "source": [
        ">**Veja que ao dar um update o python sobrescreve valores de a com os valores de b. Mas não é isso que eu quero. Quero que apareçam todas as chaves de ambos dicionários**"
      ]
    },
    {
      "cell_type": "markdown",
      "metadata": {
        "id": "00ytG10OFl0a"
      },
      "source": [
        "Vamos resolver isso com o ChainMap.\n",
        "\n",
        "Ele tem o mesmo princípio do chain, ou seja, vai montar pra gente 2 sequencias."
      ]
    },
    {
      "cell_type": "code",
      "metadata": {
        "id": "NHa844_NIAUQ"
      },
      "source": [
        " c = ChainMap(a, b)"
      ],
      "execution_count": 41,
      "outputs": []
    },
    {
      "cell_type": "code",
      "metadata": {
        "colab": {
          "base_uri": "https://localhost:8080/"
        },
        "id": "4YdlSOr4I3yJ",
        "outputId": "a5f22dee-5466-406c-ab3b-95cb1bbc2d7a"
      },
      "source": [
        "c"
      ],
      "execution_count": 42,
      "outputs": [
        {
          "output_type": "execute_result",
          "data": {
            "text/plain": [
              "ChainMap({1: 'a', 2: 'b', 3: 'c'}, {2: 'x', 3: 'z', 4: 'w'})"
            ]
          },
          "metadata": {
            "tags": []
          },
          "execution_count": 42
        }
      ]
    },
    {
      "cell_type": "code",
      "metadata": {
        "colab": {
          "base_uri": "https://localhost:8080/",
          "height": 35
        },
        "id": "vuz9PiA2I86d",
        "outputId": "06f8bcc3-2757-4095-86d9-07c32b2365de"
      },
      "source": [
        "c[2]"
      ],
      "execution_count": 43,
      "outputs": [
        {
          "output_type": "execute_result",
          "data": {
            "application/vnd.google.colaboratory.intrinsic+json": {
              "type": "string"
            },
            "text/plain": [
              "'b'"
            ]
          },
          "metadata": {
            "tags": []
          },
          "execution_count": 43
        }
      ]
    },
    {
      "cell_type": "markdown",
      "metadata": {
        "id": "-VXl_P20JGkn"
      },
      "source": [
        ">**De início, veja que o ChainMap faz uma avaliação de curto circuito, ou seja, pega a primeira ocorrencia da chave solicitada**\n",
        "\n",
        ">**Vamos utilizar o método maps para resolver nossa situação**"
      ]
    },
    {
      "cell_type": "code",
      "metadata": {
        "colab": {
          "base_uri": "https://localhost:8080/"
        },
        "id": "t9ASyKB7JQbW",
        "outputId": "dd2cda52-8d0e-4b9b-de8f-def7459e47d4"
      },
      "source": [
        "c.maps"
      ],
      "execution_count": 44,
      "outputs": [
        {
          "output_type": "execute_result",
          "data": {
            "text/plain": [
              "[{1: 'a', 2: 'b', 3: 'c'}, {2: 'x', 3: 'z', 4: 'w'}]"
            ]
          },
          "metadata": {
            "tags": []
          },
          "execution_count": 44
        }
      ]
    },
    {
      "cell_type": "markdown",
      "metadata": {
        "id": "GpBkKGkXKAbD"
      },
      "source": [
        ">Veja que com o maps temos uma lista"
      ]
    },
    {
      "cell_type": "code",
      "metadata": {
        "colab": {
          "base_uri": "https://localhost:8080/",
          "height": 35
        },
        "id": "NdLK4XQHKF34",
        "outputId": "8fc2a30e-d1b3-4833-d201-fe21a013faad"
      },
      "source": [
        "c.maps[0][2]"
      ],
      "execution_count": 47,
      "outputs": [
        {
          "output_type": "execute_result",
          "data": {
            "application/vnd.google.colaboratory.intrinsic+json": {
              "type": "string"
            },
            "text/plain": [
              "'b'"
            ]
          },
          "metadata": {
            "tags": []
          },
          "execution_count": 47
        }
      ]
    },
    {
      "cell_type": "code",
      "metadata": {
        "colab": {
          "base_uri": "https://localhost:8080/",
          "height": 35
        },
        "id": "D5KckA3MKHF6",
        "outputId": "bb717094-7d58-4bfa-baac-2ceec9a69b25"
      },
      "source": [
        "c.maps[1][2]"
      ],
      "execution_count": 46,
      "outputs": [
        {
          "output_type": "execute_result",
          "data": {
            "application/vnd.google.colaboratory.intrinsic+json": {
              "type": "string"
            },
            "text/plain": [
              "'x'"
            ]
          },
          "metadata": {
            "tags": []
          },
          "execution_count": 46
        }
      ]
    },
    {
      "cell_type": "markdown",
      "metadata": {
        "id": "V8GjmwVUKKPz"
      },
      "source": [
        ">**Agora sim. Já que agora temos uma lista podemos selecionar normalmente através dos respectivos índices e depois pela chave desejada**"
      ]
    }
  ]
}